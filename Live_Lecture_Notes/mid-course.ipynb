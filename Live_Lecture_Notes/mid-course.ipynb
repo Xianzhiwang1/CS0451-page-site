{
 "cells": [
  {
   "attachments": {},
   "cell_type": "markdown",
   "metadata": {},
   "source": [
    "# CSCI 0451: Mid-Course Reflection\n",
    "Xianzhi Wang"
   ]
  },
  {
   "attachments": {},
   "cell_type": "markdown",
   "metadata": {},
   "source": [
    "## The Data\n",
    "\n",
    "*In this section I'll ask you to fill in some data. You don't have to give precise numbers -- approximate, conversational responses are fine. For example, when I ask \"how often have you attended class,\" good answers include \"almost always,\" \"I've missed three times,\" \"about 75% of the time,\" \"not as often as I want,\" etc.* \n",
    "\n",
    "### Presence in Class\n",
    "\n",
    "- *How often have you attended class?* \n",
    "I missed 2 times\n",
    "- *How often have you taken notes on the core readings ahead of the class period?* I took some notes on paper, but I didn't note them down in the shared doc online, so not as often as I want. \n",
    "- *How often have you been **prepared** to present the daily warm-up exercise to your team, even if you weren't actually called?* I am prepared most of the times, except 2 or 3 times I didn't have time to finish the exercise.\n",
    "- *How many times have you **actually** presented the daily warm-up to your team?* I presented once or twice. \n",
    "- *How many times have you asked your team for help while presenting the daily warm-up?* Once or twice.\n",
    "- *How often have you learned something new from a teammate's presentation of the daily warm-up?* 2 or 3 times.\n",
    "- *How often have you helped a teammate during the daily warm-up presentation?* 1 or 2 times. \n",
    "\n",
    "### Presence Outside of Class \n",
    "\n",
    "- *How often have you attended Student Hours or Peer Help?* I attended Student hours whenever I can, meaning as long as I do not have a scheduling conflict, I would show up. But my math research project meeting is often scheduled the same time as Student Hours. I attended Peer Help every week, I stayed the entire session most of the times, and I like get my work done during those hours.\n",
    "- *How often have you asked for or received help from your fellow students?* I get some form of help regarding my code amost every week.\n",
    "- *Have you been regularly participating in a study group outside class?* No. I work together with several people in the class during Peer Help, but everytime there's usually different people each night. \n",
    "- *How often have you posted questions or answers in Slack?* Only a very few times. \n",
    "\n",
    "### Assignments and Effort\n",
    "\n",
    "- *How many blog posts have you submitted?* 5 \n",
    "- *How many of your submitted blog posts are at each of the following feedback stages?*\n",
    "    - *No revisions suggested:* 0 \n",
    "    - *Revisions useful:* 0 \n",
    "    - *Revisions encouraged:* 5\n",
    "    - *Incomplete:* 0\n",
    "- *Roughly how many hours per week have you spent on this course outside of class?* 19 \n"
   ]
  },
  {
   "attachments": {},
   "cell_type": "markdown",
   "metadata": {},
   "source": [
    "## What You've Learned\n",
    "\n",
    "*At the beginning of the course, you may have expressed an interest in focusing a little extra on one or two of the following four categories:* \n",
    "\n",
    "- ***Theory***: *mathematical descriptions of frameworks and algorithms.*\n",
    "- ***Implementation***: *effective coding and use of tools in order to implement efficient machine learning algorithms.*\n",
    "- ***Experimentation***: *performing experiments to assess the performance of algorithms and clearly communicating about the results.*\n",
    "- ***Social responsibility***: *critical analysis of sources of bias and harm in machine learning algorithms; theoretical formulations of fairness and bias*\n",
    "\n",
    "*Did you choose to focus on any of these categories? If so, what have you done in order to pursue your interest?*    "
   ]
  },
  {
   "attachments": {},
   "cell_type": "markdown",
   "metadata": {},
   "source": [
    "I chose to focus on Implementation and I also care about the theory, but the main goal for me is to become a better coder, since I am not very good at implement concepts or mathematical deductions into code, and this has always been something I am not super good at through out my college years. Hence, I very aggressively learn how to implement things and get assignments done (I mean the part with code), and I have pushed myself hard to make progress, and I also cope with the stress that's accompanying debugging, so at this sixth week mark, I think I have served myself well in pursuing my interest. I also learn the theory, which is the math behind the code, so that I implement algorithms correctly. I also strive to reflect on equality, bias, justice in my blog posts analysis, since these human aspects of the problem are sometimes overlooked by technical solutions. \n",
    "\n",
    "Moving forward: I want to continue to focus on implementation, and I realized that going from a working implementation to a full-bodied blog post is a long journey. I would like to allow myself to spend less time on writing out the details in a blog post, so that I could concentrate on implementation, and I would still consider myself successful in this course with less polished blog posts."
   ]
  },
  {
   "attachments": {},
   "cell_type": "markdown",
   "metadata": {},
   "source": [
    "## Reflecting on Goals\n",
    "\n",
    "*For each of the categories below, replace the \"[your response here]\" cell with 1-2 paragraphs in which you reflect on the following questions:* \n",
    "\n",
    "- *In what ways are you **on track to meet your goals** from the beginning of the course? Be specific: explain what the goal is and what you are doing in order to meet it.* \n",
    "- *In what ways are you **not on track to meet your goals** from the beginning of the course? Be specific: explain what the goal is and what gap you see between where you are and your goal.* \n",
    "- *If there's any **context** you want to share about how you are faring relative to your goals, please do!*\n",
    "\n",
    "### Blog Posts"
   ]
  },
  {
   "attachments": {},
   "cell_type": "markdown",
   "metadata": {},
   "source": [
    "I am on track to meet my goals in posting Blog Posts by their `Best by` dates, since I have submitted all the blog posts that's currently assigned except the most recent one, which is 5 in total, at the time of writing (Apr 4, 2023). I haven't finished the write-ups, but $80$ percent of the implementation is done. At this point in the semester, I have pressures from multiple classes (I am taking 5 classes), and I also need to decide by April 15th which grad school to attend for math PhD starting in fall 2023.  The process is going to be ugly, since some grad program director(s) have commmunicated to me that they are going to make some additional offers for people on the waitlist after April 15th. And technically, I should commit to one school by April 15th. Hence, this process is likely consume some of my time and increase my anxiety overall. Hence, I would like to continute to focus on implementation, and I would still consider myself successful if do not have polished paragraphs in my posts."
   ]
  },
  {
   "attachments": {},
   "cell_type": "markdown",
   "metadata": {},
   "source": [
    "### Course Presence (Participation)"
   ]
  },
  {
   "attachments": {},
   "cell_type": "markdown",
   "metadata": {},
   "source": [
    "I've been trying to come to every class, and I have missed 2 classes in total, because I had schedule conflicts. During one of the weeks (I don't recall if it's week 4 or 5) my course load as a whole is especially bad, and coupled with the fact that I need to work on communicating with the grad schools that I have applied to, I had to work very had to make ends meet during certain weeks, so I wasn't able to do the warm-up exercise before class. Otherwise, this class is usually the class that I spent the most of my time on during a given week."
   ]
  },
  {
   "attachments": {},
   "cell_type": "markdown",
   "metadata": {},
   "source": [
    "### Project "
   ]
  },
  {
   "attachments": {},
   "cell_type": "markdown",
   "metadata": {},
   "source": [
    "I have successfully teamed up with Prateek, who is an economics and CS double major, and we share some interests in economics. Originally we discussed a project that apply machine learning to American Options, but it turns out to be too hard given that we have about 6 weeks left in the semester. Then we are thinking about doing natural language processing on scanned historical economics records, for example, farm records that record how many livestocks, grains, milk, oats, etc that farms in 1880s produced. Prateek and I have decided to use data from Chronicling America Library of Congress."
   ]
  },
  {
   "attachments": {},
   "cell_type": "markdown",
   "metadata": {},
   "source": [
    "### Other\n",
    "\n",
    "*Is there anything else that you want to share with me about what you have learned, how you have participated, or what you have achieved in CSCI 0451?*"
   ]
  },
  {
   "attachments": {},
   "cell_type": "markdown",
   "metadata": {},
   "source": [
    "I work very hard, and after Middlebury I'll be starting a math PhD program at some place (not sure which one I would end up in) that's ranked around 40 (or higher if I got off waitlist) by US News. It's competitive, and I consciously learn more computer science whenever I can, so that if I cannot jump the hurdle like getting a academic job, I could still find a industry job, so I have something to fall back on. During CS0451, I also learned some git and terminal commands, and because my current laptop is slow, I have spent some time installing Arch Linux on another laptop (with a better keyboard!!). Hopefully if I managed learn enough linux stuff to configure it correctly , I could use that laptop and have a better workflow because it runs linux (or it's just the keyboard!!)."
   ]
  },
  {
   "attachments": {},
   "cell_type": "markdown",
   "metadata": {},
   "source": [
    "## Grade and Goals\n",
    "\n",
    "*Take 15 minutes to look back on your responses in each of the sections above. Then, state the letter grade that you feel reflects your learning, participation, and achievement in CSCI 0451 **so far**. Here are some soundbytes to help guide your thinking:*\n",
    "\n",
    "### What a Grade Sounds Like\n",
    "\n",
    "*An **A** sounds like:* \n",
    "\n",
    "- *\"I am very proud of my time in this course.\"*\n",
    "- *\"I have grown significantly in multiple ways that matter to me.\"*\n",
    "- *\"I am ready to take the theory, techniques, and ideas of this course into my future classes, projects, hobbies, or career.\"* \n",
    "\n",
    "*A **B** sounds like:* \n",
    "\n",
    "- *\"I had some opportunities to learn more, overall I feel good about my time in this course.\"*\n",
    "- *\"I am able to explain some new things or achieve new tasks.\"*\n",
    "- *\"I can see a few ideas from this course that will be relevant for my future classes, projects, hobbies, or career.\"*\n",
    "\n",
    "*A **C** sounds like:* \n",
    "\n",
    "- *\"I often made a good effort, but I missed many opportunities to get more out of my time in this course.\"*\n",
    "- *\"I might be able to complete some new tasks related to the course content, but only with significant further guidance.\"* \n",
    "- *\"I don't see any ways to take the contents of this course into my future classes, projects, hobbies, or career.\"*\n",
    "\n",
    "*You might find that some of these soundbytes resonate and other's don't! Take some time, see what feels right, and don't be afraid to celebrate your achievements.* "
   ]
  },
  {
   "attachments": {},
   "cell_type": "markdown",
   "metadata": {},
   "source": [
    "> **Upon reflection, I feel that my learning, participation, and achievement in CSCI 0451 (so far) are best reflected by a grade of** A "
   ]
  },
  {
   "attachments": {},
   "cell_type": "markdown",
   "metadata": {},
   "source": [
    "## (Optional:) How to Improve? \n",
    "\n",
    "*You may feel disappointed by your reflection. Sometimes we don't achieve all our goals -- it happens and it's normal! If you are feeling disappointed by how you've learned, participated, or achieved in CSCI 0451, then feel free to write something about that below. Feel free to just write your feelings. If you have ideas for how to move forward, include those too! We'll talk.* "
   ]
  },
  {
   "attachments": {},
   "cell_type": "markdown",
   "metadata": {},
   "source": [
    "I didn't plan my high school well, and I was a mediocre student (still performing well objectively, but subjectively I feel I could done a lot better if I think more clearly about what mattered to me and have more discipline). Otherwise, I would at least get some exposure to programming languages and learn some computer sciences early on, so things would be more intuitive for me. However, the reality is that right now I consciously try very hard to improve, both in CS and in Math. Sometimes I feel frustrated with myself over debugging some should-be-straight-forward code, and sometimes I feel embarrassed because it's actually straight forward, it's just I didn't do it right by reading documentation first, and I didn't sleep enough so I am introducing bugs into my code. Nevertheless, I feel that I had put in the work this semester, and I think I am doing well in this class."
   ]
  }
 ],
 "metadata": {
  "kernelspec": {
   "display_name": "Python 3.11.0 64-bit",
   "language": "python",
   "name": "python3"
  },
  "language_info": {
   "name": "python",
   "version": "3.11.0"
  },
  "orig_nbformat": 4,
  "vscode": {
   "interpreter": {
    "hash": "aee8b7b246df8f9039afb4144a1f6fd8d2ca17a180786b69acc140d282b71a49"
   }
  }
 },
 "nbformat": 4,
 "nbformat_minor": 2
}
