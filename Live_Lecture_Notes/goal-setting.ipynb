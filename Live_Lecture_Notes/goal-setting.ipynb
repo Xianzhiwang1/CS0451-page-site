{
 "cells": [
  {
   "cell_type": "markdown",
   "metadata": {},
   "source": [
    "# CSCI 0451: Reflective Goal-Setting\n",
    "\n",
    "Xianzhi Wang"
   ]
  },
  {
   "cell_type": "markdown",
   "metadata": {},
   "source": [
    "## What You'll Learn\n",
    "\n",
    "*The knowledge we'll develop in CSCI 0451 can be broadly divided into four main areas:*\n",
    "\n",
    "- ***Theory***: *mathematical descriptions of frameworks and algorithms.*\n",
    "- ***Implementation***: *effective coding and use of tools in order to implement efficient machine learning algorithms.*\n",
    "- ***Experimentation***: *performing experiments to assess the performance of algorithms and clearly communicating about the results.*\n",
    "- ***Social responsibility***: *critical analysis of sources of bias and harm in machine learning algorithms; theoretical formulations of fairness and bias*\n",
    "\n",
    "*Every student should grow toward each of these areas, but you can choose to specialize if you'd like! If there are one or two of these categories on which you'd especially like to focus, list them below. Feel free to include any details that you'd like -- this can help me tailor the course content to your interests.*"
   ]
  },
  {
   "cell_type": "markdown",
   "metadata": {},
   "source": [
    "* I would like to focus more on Implementation, which seemms to be the weakest link in skill tree.\n",
    "* I also want to learn the theory, since it's important to understand why the model works.\n",
    "* I think actively reflecting on social responsibility, and especitally equity, inclusion, unbiasedness are also important, since those tend to be overlooked in the STEM fields. "
   ]
  },
  {
   "cell_type": "markdown",
   "metadata": {},
   "source": [
    "## What You'll Achieve\n",
    "\n",
    "### Blog Posts\n",
    "\n",
    "*Most blog posts will require around 5-8 hours on average to complete, plus time for revisions in response to feedback. Blog posts will most frequently involve a mix of mathematical problem-solving, coding, experimentation, and written discussion. Some blog posts will ask you to critically discuss recent readings in an essay-like format.*"
   ]
  },
  {
   "cell_type": "markdown",
   "metadata": {},
   "source": [
    "* For me, each blog post can easily take around 20 - 30 hours to complete, since I am very rusty at the programming workflow right now. \n",
    "* I hope after I get familiar with the workflow, it will take me less time to implement things. \n",
    "* I strive to become better at coding, experimentation and technical writing as the semester goes on.\n",
    "* More concretely, I aim to submit blog posts by their `best by` dates, and I'll make sure to submit a first draft that has the correct implementation when I do not have time to finish everything by the `best by` date."
   ]
  },
  {
   "cell_type": "markdown",
   "metadata": {},
   "source": [
    "### Course Presence (Participation)\n",
    "\n",
    "*You make a choice each day about how to show up for class: whether you'll be prepared, whether you'll engage with me and your peers in a constructive manner; and whether you'll be active during lecture and discussions. We will also have a special opportunity this semester to engage with a renowned expert in machine learning, algorithmic bias, and the ethics of artificial intelligence.*\n",
    "\n",
    "*An especially important form of course presence is the daily warmup. We'll spend the first 10-15 minutes of most class periods on warmup activities. You're expected to have prepared the warmup activity ahead of time (this means you'll need to have completed the readings as well). Each time, we'll sort into groups of 5-6 students, and one of you (randomly selected) will be responsible for presenting the activity on the whiteboard. If you're not feeling prepared to present the activity, you can \"pass\" to the next person, or ask for help along the way.*"
   ]
  },
  {
   "cell_type": "markdown",
   "metadata": {},
   "source": [
    "* I strive to come to class ready to present the activity at the whiteboard.\n",
    "* I strive to not miss any class, unless there is a real reason such as attending an open house.\n",
    "* I strive to complete the relevant readings before each class\n",
    "* I'll go to Peer Help and Student hours frequently, and come after making my attempt at problems and with prepared questions."
   ]
  },
  {
   "cell_type": "markdown",
   "metadata": {},
   "source": [
    "### Project \n",
    "\n",
    "*To finish off the course, you'll complete a long-term project that showcases your interests and skills. You'll be free to propose and pursue a topic. My expectation is that most projects will move significantly beyond the content covered in class in some way: you might implement a new algorithm, study a complex data set in depth, or conduct a series of experiments related to assessing algorithmic bias in a certain class of algorithm. You'll be expected to complete this project in small groups (of your choosing), and update us at a few milestones along the way.*\n",
    "\n",
    "*Please share a bit about what kind of topic might excite you, and set a few goals about how you plan to show up as a constructive team-member and co-inquirer (see the [ideas](ideas.qmd) for some inspiration*). "
   ]
  },
  {
   "cell_type": "markdown",
   "metadata": {},
   "source": [
    "* I am very interested in machine learning in Economics and Finance, since Economics was one of my major until I decided to drop it at the start of spring 2023. Techniques from operation research, dynamic programming, bellman equations are routinely used in Econ literature, and recently many research level machine learning models in Finance had found their way to graduate/advanced undergrad textbooks. \n",
    "* Hence, I am interested in exploring a machine learning model that is applied to Finance.\n",
    "* I'll complete the project mile stones on time.\n",
    "* I'll work hard.\n",
    "* I'll respond promptly my project partners.\n",
    "* I'll work on the project regularly to make progress. \n",
    "* I'll write good code and implement models correctly."
   ]
  }
 ],
 "metadata": {
  "kernelspec": {
   "display_name": "Python 3 (ipykernel)",
   "language": "python",
   "name": "python3"
  },
  "language_info": {
   "codemirror_mode": {
    "name": "ipython",
    "version": 3
   },
   "file_extension": ".py",
   "mimetype": "text/x-python",
   "name": "python",
   "nbconvert_exporter": "python",
   "pygments_lexer": "ipython3",
   "version": "3.9.13"
  },
  "vscode": {
   "interpreter": {
    "hash": "debe06cc0f9553f110b64dc3926c05df82dae2145b852c8422b9c04315589dcb"
   }
  }
 },
 "nbformat": 4,
 "nbformat_minor": 2
}
