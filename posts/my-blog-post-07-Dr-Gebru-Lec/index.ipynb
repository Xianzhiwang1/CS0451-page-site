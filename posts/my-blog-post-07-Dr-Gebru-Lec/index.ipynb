{
 "cells": [
  {
   "cell_type": "raw",
   "metadata": {},
   "source": [
    "---\n",
    "title: Reflection on Dr. Gebru's recorded lecture and questions for upcomming talks \n",
    "author: Xianzhi Wang \n",
    "date: '2023-04-12'\n",
    "image: \"image.png\"\n",
    "description: \"My blog post on Dr. Gebru's recorded lecture and questions for upcomming talkes\"\n",
    "format: html\n",
    "---"
   ]
  },
  {
   "cell_type": "code",
   "execution_count": 1,
   "metadata": {},
   "outputs": [],
   "source": [
    "%load_ext autoreload\n",
    "%autoreload 2"
   ]
  },
  {
   "cell_type": "code",
   "execution_count": 2,
   "metadata": {},
   "outputs": [],
   "source": [
    "# %reload_ext autoreload"
   ]
  },
  {
   "attachments": {},
   "cell_type": "markdown",
   "metadata": {},
   "source": [
    "### Link to Source Code \n",
    "[Here](https://github.com/Xianzhiwang1/CS0451-page-site/tree/main/posts/) is a link to the source code for this post.\n",
    "\n",
    "### Link to reference for this blog post\n",
    "[Here](https://middlebury-csci-0451.github.io/CSCI-0451/assignments/blog-posts/blog-post-guest-speaker.html) is a link to the main reference we use as we implement this post."
   ]
  },
  {
   "attachments": {},
   "cell_type": "markdown",
   "metadata": {},
   "source": [
    "# Introduction \n",
    "Dr. Timnit Gebru is scheduled to give a talk at Middlebury College on April 24th at 7:00 PM ET in Hillcrest 103, titled \"Eugenics and the Promise of Utopia through Artificial General Intelligence.\" I am interested in learning more about her field of study and what she would like to address during the talk. Dr. Gebru is a high-achieving academic working broadly in the field of computer vision. She holds a PhD in Computer Science from Stanford, and she is very active in academia and industry alike. \n",
    "\n",
    "Trained in her doctorial study as a computer scientist, Dr. Gebru works on algorithmic bias and data mining. She has extensive experience working in research teams at Microsoft, Google, and Apple, and she is a recognized voice in artificial intelligence and ethical frameworks, because of the extensive research experience she had, and the projects and programs she involved in. She is a cofounder of Black in AI, and she is the founder of the Distributed Artificial Intelligence Research Institute. She is very influential and recognized, and she is named one of Time's most influential people. She is also named as one of World's 50 Greatest Leaders by Fortune and one of Nature's ten people who shaped science in 2021, according to Wikipedia. She is also active on social media such as LinkedIn, and she is also very active academically, authoring peer reviewed publications and traveling widely and giving talks."
   ]
  },
  {
   "attachments": {},
   "cell_type": "markdown",
   "metadata": {},
   "source": [
    "# Summary and Reflection about Dr Gebru's previous talk on Fairness, Accountability, Transparency, and Ethics.\n",
    "The thesis of Dr. Gebru’s lecture is that computer vision is a double edged sword, and if used inappropriately, it could greatly increase systematic racism, racial bias, gender bias, and all types of bias in a society, and greatly harm the population for whom the computer vision is used on. Here, there is a lot of responsibility regarding the use of computer vision, and there are a lot of ethical choices to be made. \n",
    "\n",
    "Data, computer vision, and machine learning ethics is a very important topic, and need to be taken into consideration by researchers. For example, a startup called “Faception” is aimed at profiling people and revealing their personality solely based on their facial image and facial expressions. Dr. Gebru invited us to brainstorm what could potentially go wrong here: say, a person is wrongly judged to be angry or hot-tempered, then that person will be denied jobs based on the assessment of this technology called “Faception”. Dr. Gebru went on to talk about HireVue, another startup technology that harnesses artificial intelligence,  facial recognition to screen job candidates, which might be biased against certain minority groups, hence it is unjust and unethical towards the group of people it’s systematically biased against. A third example is Maryland Police department’s usage of facial recognition and screening of protestors and perpetrators, which could lead to all sorts of consequences and arrests. They could even match a protester's profile to their social media accounts, which sounds dreadful, like a nightmare from a sci-fi movie. In conclusion, Dr. Gebru showcased that used carelessly, computer vision and machine learning could do more harm than good.\n",
    "\n",
    "In one sentence, the thing that everyone needs to understand about computer vision as it's used today is that it's a double edged sword, and it could potentially be very biased and harm many people, so it should be used with caution and a dedicated legal, ethical, scientific framework.\n",
    "\n",
    "In conclusion, greater technical advancement carries greater responsiblity, we need more laws, regulations, and ethical considerations when we engage with latest techonology from computer vision and computer science as a whole."
   ]
  },
  {
   "attachments": {},
   "cell_type": "markdown",
   "metadata": {},
   "source": [
    "# My proposed question for her during Dr. Gebru's talk\n",
    "If everything could start over from 2001, and there is a benevolent social planer who allocates resource efficiently and cares about all humans living on this land, how would you think the field of computer vision would develop differently, and in what ways better, than what we have now in reality? Thanks!\n"
   ]
  }
 ],
 "metadata": {
  "kernelspec": {
   "display_name": "Python 3.9.16 ('ml-0451')",
   "language": "python",
   "name": "python3"
  },
  "language_info": {
   "codemirror_mode": {
    "name": "ipython",
    "version": 3
   },
   "file_extension": ".py",
   "mimetype": "text/x-python",
   "name": "python",
   "nbconvert_exporter": "python",
   "pygments_lexer": "ipython3",
   "version": "3.9.16"
  },
  "vscode": {
   "interpreter": {
    "hash": "828d98d954e87c2b5b44e0a5cfd805247874b19ac6d7df6603713eaf15bc89d5"
   }
  }
 },
 "nbformat": 4,
 "nbformat_minor": 4
}
