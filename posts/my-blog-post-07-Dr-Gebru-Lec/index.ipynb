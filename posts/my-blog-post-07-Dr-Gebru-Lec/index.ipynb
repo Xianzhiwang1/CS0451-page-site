{
 "cells": [
  {
   "cell_type": "raw",
   "metadata": {},
   "source": [
    "---\n",
    "title: Reflection on Dr. Gebru's recorded lecture and questions for upcomming talks \n",
    "author: Xianzhi Wang \n",
    "date: '2023-04-12'\n",
    "image: \"image.png\"\n",
    "description: \"My blog post on Dr. Gebru's recorded lecture and questions for upcomming talkes\"\n",
    "format: html\n",
    "---"
   ]
  },
  {
   "cell_type": "code",
   "execution_count": 1,
   "metadata": {},
   "outputs": [],
   "source": [
    "%load_ext autoreload\n",
    "%autoreload 2"
   ]
  },
  {
   "cell_type": "code",
   "execution_count": 2,
   "metadata": {},
   "outputs": [],
   "source": [
    "# %reload_ext autoreload"
   ]
  },
  {
   "attachments": {},
   "cell_type": "markdown",
   "metadata": {},
   "source": [
    "### Link to Source Code \n",
    "[Here](https://github.com/Xianzhiwang1/CS0451-page-site/tree/main/posts/my-blog-post-06-unsupervised-learning)is a link to the source code for this post.\n",
    "\n",
    "### Link to reference for this blog post\n",
    "[Here](https://middlebury-csci-0451.github.io/CSCI-0451/assignments/blog-posts/blog-post-image-processing.html) is a link to the main reference we use as we implement this post."
   ]
  },
  {
   "attachments": {},
   "cell_type": "markdown",
   "metadata": {},
   "source": [
    "# Introduction \n",
    "Dr. Timnit Gebru is scheduled to give a talk at Middlebury College on April 24th at 7:00 PM ET in Hillcrest 103, titled \"Eugenics and the Promise of Utopia through Artificial General Intelligence.\" I am interested in learning more about her field of study and what she would like to address during the talk. Dr. Gebru is a high-achieving academic working broadly in the field of computer vision. She holds a PhD in Computer Science from Stanford, and she is very active in academia and industry alike. "
   ]
  }
 ],
 "metadata": {
  "kernelspec": {
   "display_name": "Python 3.9.16 ('ml-0451')",
   "language": "python",
   "name": "python3"
  },
  "language_info": {
   "codemirror_mode": {
    "name": "ipython",
    "version": 3
   },
   "file_extension": ".py",
   "mimetype": "text/x-python",
   "name": "python",
   "nbconvert_exporter": "python",
   "pygments_lexer": "ipython3",
   "version": "3.9.16"
  },
  "vscode": {
   "interpreter": {
    "hash": "828d98d954e87c2b5b44e0a5cfd805247874b19ac6d7df6603713eaf15bc89d5"
   }
  }
 },
 "nbformat": 4,
 "nbformat_minor": 4
}
