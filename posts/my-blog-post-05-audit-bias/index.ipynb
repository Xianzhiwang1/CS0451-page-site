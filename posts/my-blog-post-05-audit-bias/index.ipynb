{
 "cells": [
  {
   "cell_type": "raw",
   "metadata": {},
   "source": [
    "---\n",
    "title: My Blog post on Auditing Allocative Bias \n",
    "author: Xianzhi Wang\n",
    "date: '2023-03-24'\n",
    "image: \"image.jpg\"\n",
    "description: \"My Blog post on Auditing Allocative Bias\"\n",
    "format: html\n",
    "---"
   ]
  },
  {
   "attachments": {},
   "cell_type": "markdown",
   "metadata": {},
   "source": [
    "### Source \n",
    "[Here](https://github.com/Xianzhiwang1/CS0451-page-site/tree/main/posts/) is a link to the source code for this blog post.\n",
    "### Reference\n",
    "[Here](https://middlebury-csci-0451.github.io/CSCI-0451/assignments/blog-posts/blog-post-bias-allocative.html#what-you-should-do) is a link to the main guide and reference when we write this blog post.\n",
    "Another reference is this [paper](https://arxiv.org/pdf/2108.04884.pdf) that documents which variable means what in the PUMS data set we are going to use.  \n",
    "### Introduction.\n",
    "From the PUMS official website, we can learn all we want about the PUMS data. The American Community Survey (ACS) Public Use Microdata Sample (PUMS) files are data about individual people and housing units. There are two types of PUMS files, one for Person records and one for Housing Unit records. Each record in the Person file represents a single person. Individuals are organized into households. PUMS files for an individual year contain data on approximately one percent of the United States population. \n",
    "\n",
    "In this blog post, we are going to focus on PUMS data on Indiana in 2018. The reason we pick Indiana is that we want to work with a state with a smallish population size, so that it would be easier to download this data using `folktables` to our local machine and work with it. Why not pick Illinois, one might have asked. Anyway, it's kind of random, the author admits.\n",
    "\n",
    "To be specific, we would like to use this data and models such as logistic regression to predict whether someone is employed or not in Indiana in 2018. Then, we would like to investigate whether the prediction given by our model is racially biased. \n",
    "\n",
    "### Implementation \n",
    "After introducing the data, we would like to implement some standard machine learning model such as logitic regression from `sklearn`, and investigate any bias that might arise in machine learning predictions. Our main tool will be confusion matrix from `sklearn.metrics`.\n"
   ]
  },
  {
   "cell_type": "code",
   "execution_count": 2,
   "metadata": {},
   "outputs": [],
   "source": [
    "%load_ext autoreload\n",
    "%autoreload 2"
   ]
  },
  {
   "cell_type": "markdown",
   "metadata": {},
   "source": [
    "First, let's import some libraries that we need."
   ]
  },
  {
   "cell_type": "code",
   "execution_count": 44,
   "metadata": {},
   "outputs": [],
   "source": [
    "import numpy as np\n",
    "import seaborn as sns\n",
    "from matplotlib import pyplot as plt\n",
    "from sklearn.datasets import make_blobs\n",
    "import pandas as pd"
   ]
  },
  {
   "cell_type": "code",
   "execution_count": 95,
   "metadata": {},
   "outputs": [],
   "source": [
    "from sklearn.linear_model import LogisticRegression\n",
    "from sklearn.pipeline import make_pipeline\n",
    "from sklearn.preprocessing import StandardScaler\n",
    "from sklearn.metrics import confusion_matrix\n",
    "from sklearn.model_selection import train_test_split\n",
    "from sklearn.tree import DecisionTreeClassifier\n",
    "from sklearn.model_selection import cross_val_score\n",
    "from sklearn.metrics import classification_report\n",
    "from sklearn.preprocessing import PolynomialFeatures\n",
    "from sklearn.pipeline import Pipeline\n",
    "import warnings"
   ]
  },
  {
   "attachments": {},
   "cell_type": "markdown",
   "metadata": {},
   "source": [
    "# Getting the data using `folktables`"
   ]
  },
  {
   "attachments": {},
   "cell_type": "markdown",
   "metadata": {},
   "source": [
    "The first thing we do is download the PUMS data for Indiana in 2018 using `folktables`. This allows us to conveniently write a few lines of code and pull the data set from the internet without firing up a browser. After getting the data, we store the data in the variable `acs_data`, and let us take a look at the dataframe using `.head()` function. "
   ]
  },
  {
   "cell_type": "code",
   "execution_count": 5,
   "metadata": {},
   "outputs": [],
   "source": [
    "from folktables import ACSDataSource, ACSEmployment, BasicProblem, adult_filter\n",
    "\n",
    "STATE = \"IN\"\n",
    "\n",
    "data_source = ACSDataSource(survey_year='2018', \n",
    "                            horizon='1-Year', \n",
    "                            survey='person')\n",
    "\n",
    "acs_data = data_source.get_data(states=[STATE], download=True)"
   ]
  },
  {
   "cell_type": "code",
   "execution_count": 6,
   "metadata": {},
   "outputs": [
    {
     "data": {
      "text/html": [
       "<div>\n",
       "<style scoped>\n",
       "    .dataframe tbody tr th:only-of-type {\n",
       "        vertical-align: middle;\n",
       "    }\n",
       "\n",
       "    .dataframe tbody tr th {\n",
       "        vertical-align: top;\n",
       "    }\n",
       "\n",
       "    .dataframe thead th {\n",
       "        text-align: right;\n",
       "    }\n",
       "</style>\n",
       "<table border=\"1\" class=\"dataframe\">\n",
       "  <thead>\n",
       "    <tr style=\"text-align: right;\">\n",
       "      <th></th>\n",
       "      <th>RT</th>\n",
       "      <th>SERIALNO</th>\n",
       "      <th>DIVISION</th>\n",
       "      <th>SPORDER</th>\n",
       "      <th>PUMA</th>\n",
       "      <th>REGION</th>\n",
       "      <th>ST</th>\n",
       "      <th>ADJINC</th>\n",
       "      <th>PWGTP</th>\n",
       "      <th>AGEP</th>\n",
       "      <th>...</th>\n",
       "      <th>PWGTP71</th>\n",
       "      <th>PWGTP72</th>\n",
       "      <th>PWGTP73</th>\n",
       "      <th>PWGTP74</th>\n",
       "      <th>PWGTP75</th>\n",
       "      <th>PWGTP76</th>\n",
       "      <th>PWGTP77</th>\n",
       "      <th>PWGTP78</th>\n",
       "      <th>PWGTP79</th>\n",
       "      <th>PWGTP80</th>\n",
       "    </tr>\n",
       "  </thead>\n",
       "  <tbody>\n",
       "    <tr>\n",
       "      <th>0</th>\n",
       "      <td>P</td>\n",
       "      <td>2018GQ0000042</td>\n",
       "      <td>3</td>\n",
       "      <td>1</td>\n",
       "      <td>2000</td>\n",
       "      <td>2</td>\n",
       "      <td>18</td>\n",
       "      <td>1013097</td>\n",
       "      <td>46</td>\n",
       "      <td>20</td>\n",
       "      <td>...</td>\n",
       "      <td>7</td>\n",
       "      <td>6</td>\n",
       "      <td>82</td>\n",
       "      <td>44</td>\n",
       "      <td>6</td>\n",
       "      <td>76</td>\n",
       "      <td>83</td>\n",
       "      <td>44</td>\n",
       "      <td>45</td>\n",
       "      <td>44</td>\n",
       "    </tr>\n",
       "    <tr>\n",
       "      <th>1</th>\n",
       "      <td>P</td>\n",
       "      <td>2018GQ0000053</td>\n",
       "      <td>3</td>\n",
       "      <td>1</td>\n",
       "      <td>2306</td>\n",
       "      <td>2</td>\n",
       "      <td>18</td>\n",
       "      <td>1013097</td>\n",
       "      <td>19</td>\n",
       "      <td>48</td>\n",
       "      <td>...</td>\n",
       "      <td>16</td>\n",
       "      <td>19</td>\n",
       "      <td>37</td>\n",
       "      <td>23</td>\n",
       "      <td>2</td>\n",
       "      <td>19</td>\n",
       "      <td>2</td>\n",
       "      <td>2</td>\n",
       "      <td>40</td>\n",
       "      <td>18</td>\n",
       "    </tr>\n",
       "    <tr>\n",
       "      <th>2</th>\n",
       "      <td>P</td>\n",
       "      <td>2018GQ0000074</td>\n",
       "      <td>3</td>\n",
       "      <td>1</td>\n",
       "      <td>2000</td>\n",
       "      <td>2</td>\n",
       "      <td>18</td>\n",
       "      <td>1013097</td>\n",
       "      <td>88</td>\n",
       "      <td>20</td>\n",
       "      <td>...</td>\n",
       "      <td>166</td>\n",
       "      <td>158</td>\n",
       "      <td>160</td>\n",
       "      <td>90</td>\n",
       "      <td>87</td>\n",
       "      <td>84</td>\n",
       "      <td>88</td>\n",
       "      <td>90</td>\n",
       "      <td>13</td>\n",
       "      <td>166</td>\n",
       "    </tr>\n",
       "  </tbody>\n",
       "</table>\n",
       "<p>3 rows × 286 columns</p>\n",
       "</div>"
      ],
      "text/plain": [
       "  RT       SERIALNO  DIVISION  SPORDER  PUMA  REGION  ST   ADJINC  PWGTP   \n",
       "0  P  2018GQ0000042         3        1  2000       2  18  1013097     46  \\\n",
       "1  P  2018GQ0000053         3        1  2306       2  18  1013097     19   \n",
       "2  P  2018GQ0000074         3        1  2000       2  18  1013097     88   \n",
       "\n",
       "   AGEP  ...  PWGTP71  PWGTP72  PWGTP73  PWGTP74  PWGTP75  PWGTP76  PWGTP77   \n",
       "0    20  ...        7        6       82       44        6       76       83  \\\n",
       "1    48  ...       16       19       37       23        2       19        2   \n",
       "2    20  ...      166      158      160       90       87       84       88   \n",
       "\n",
       "   PWGTP78  PWGTP79  PWGTP80  \n",
       "0       44       45       44  \n",
       "1        2       40       18  \n",
       "2       90       13      166  \n",
       "\n",
       "[3 rows x 286 columns]"
      ]
     },
     "execution_count": 6,
     "metadata": {},
     "output_type": "execute_result"
    }
   ],
   "source": [
    "acs_data.head(3)"
   ]
  },
  {
   "attachments": {},
   "cell_type": "markdown",
   "metadata": {},
   "source": [
    "We see that we have $286$ columns, which is more than what we need! Later in the code, we'll select a dozen columns that we need and stick to working with those. However, before jumping into fitting the model, let us first recall how logistic regression works on a high level and what does each column in our data represent. "
   ]
  },
  {
   "cell_type": "markdown",
   "metadata": {},
   "source": [
    "# Data wrangling, applying Logistic Regression \n",
    "We recall the equation for a linear regression first:\n",
    "$$ y = \\beta_0 + \\beta_1 X_1 + \\beta_2 X_2 + \\cdots + \\beta_n X_n, $$\n",
    "where, $\\beta_i$'s are coefficients, $y$ is the depedent variable, and the $X_i$'s are regressors (independent variables). Now, we recall logistic function (or sigmoid function), which is \n",
    "$$ f(x) = \\frac{1}{1+e^{-x}}, $$\n",
    "and when we put those two piece together, we obtain the formula for logistic regression:\n",
    "$$ y = \\frac{1}{1+e^{\\beta_0 + \\beta_1 X_1 + \\beta_2 X_2 + \\cdots + \\beta_n X_n}}, $$ \n",
    "        \n",
    "\n",
    "\n",
    "\n"
   ]
  },
  {
   "attachments": {},
   "cell_type": "markdown",
   "metadata": {},
   "source": [
    "Here are the columns/variables that are important for our analysis:\n",
    "* `PINCP` is total personal income.\n",
    "* `ESR` is employment status coded as a dummy variable (`1` if employed, `0` if not) \n",
    "* `SEX` is binary sex, coded `1` for male, and `2` for female.\n",
    "* `RAC1P` is race (`1`for White Alone, `2` for Black/African American alone, `3` and above for other self-identified racial groups)\n",
    "* `DEAR`, `DEYE`, and `DERM` refers to disability status relating to ear, eye, etc.\n",
    "* `AGEP` is Age, represented as integers.\n",
    "* `SCHL` is educational attainment, coded as integers.\n",
    "* `MAR` is Marital status, coded using integers.\n",
    "* `RELP` is Relationship.\n",
    "* `COW` is class of worker, coded using integers.\n",
    "* `OCCP` is occupation.\n",
    "* `POBP` is place of birth.\n",
    "* `WKHP` is usual hours worked per week in the past 12 months.  \n",
    "\n",
    "Since we will devide the data set into racial groups and take a look at racial bias, let's record the encoding of this categorial variable `RAC1P` here for easy reference.\n",
    "* $1$: White alone\n",
    "* $2$: Black or African American alone\n",
    "* $3$: American Indian alone\n",
    "* $4$: Alaska Native alone\n",
    "* $5$: American Indian and Alaska Native tribes specified, or American Indian or Alaska Native\n",
    "* $6$: Asian alone\n",
    "* $7$: Native Hawaiian and Other Pacific Islander alone\n",
    "* $8$: Some Other Race alone\n",
    "* $9$: Two or More Races"
   ]
  },
  {
   "attachments": {},
   "cell_type": "markdown",
   "metadata": {},
   "source": [
    "\n",
    "<p>We would like to work on the following tasks:</p>\n",
    "\n",
    "<li>Train a machine learning algorithm to predict whether someone is currently employed, based on their other attributes <em>not</em> including race, and</li>\n",
    "<li>Perform a bias audit of our algorithm to determine whether it displays racial bias.</li>\n"
   ]
  },
  {
   "cell_type": "code",
   "execution_count": 7,
   "metadata": {},
   "outputs": [],
   "source": [
    "my_features=['PINCP', 'ESR', 'AGEP', 'SCHL', 'MAR', 'RELP', 'DIS', 'ESP', 'CIT', 'MIG', 'MIL', 'ANC', 'NATIVITY', 'DEAR', 'DEYE', 'DREM', 'SEX', 'RAC1P']\n",
    "# new_df = acs_data[my_features]\n",
    "# new_df['INCOME'] = np.where(new_df['PINCP'] >= 70000, 1, 0)\n",
    "# new_df.loc[new_df['PINCP'] >= 70000]\n",
    "# new_df.loc[new_df['ESR'] == 1]"
   ]
  },
  {
   "attachments": {},
   "cell_type": "markdown",
   "metadata": {},
   "source": [
    "Now we form the list `features_to_use`, where we exclude `ESR`, since that is employment status, which is something we want to predict, and also `RAC1P`, which is categorial variable coded in integers for race, and we would like to single this out for the `group` variable in the later code blocks."
   ]
  },
  {
   "cell_type": "code",
   "execution_count": 9,
   "metadata": {},
   "outputs": [],
   "source": [
    "features_to_use = [f for f in my_features if f not in [\"ESR\", \"RAC1P\"]]"
   ]
  },
  {
   "cell_type": "code",
   "execution_count": 10,
   "metadata": {},
   "outputs": [
    {
     "name": "stdout",
     "output_type": "stream",
     "text": [
      "['PINCP', 'AGEP', 'SCHL', 'MAR', 'RELP', 'DIS', 'ESP', 'CIT', 'MIG', 'MIL', 'ANC', 'NATIVITY', 'DEAR', 'DEYE', 'DREM', 'SEX']\n"
     ]
    }
   ],
   "source": [
    "print(features_to_use)"
   ]
  },
  {
   "cell_type": "code",
   "execution_count": 11,
   "metadata": {},
   "outputs": [],
   "source": [
    "EmploymentProblem = BasicProblem(\n",
    "    features=features_to_use,\n",
    "    target='ESR',\n",
    "    target_transform=lambda x: x == 1,\n",
    "    group='RAC1P',\n",
    "    # group='SEX',\n",
    "    preprocess=lambda x: x,\n",
    "    postprocess=lambda x: np.nan_to_num(x, -1),\n",
    ")\n",
    "\n",
    "features, label, group = EmploymentProblem.df_to_numpy(acs_data)"
   ]
  },
  {
   "attachments": {},
   "cell_type": "markdown",
   "metadata": {},
   "source": [
    "Now we could form our training data and testing data."
   ]
  },
  {
   "cell_type": "code",
   "execution_count": 12,
   "metadata": {},
   "outputs": [],
   "source": [
    "X_train, X_test, y_train, y_test, group_train, group_test = train_test_split(\n",
    "    features, label, group, test_size=0.2, random_state=0)"
   ]
  },
  {
   "attachments": {},
   "cell_type": "markdown",
   "metadata": {},
   "source": [
    "# Working with `pd.DataFrame`, apply logistic regression in Python with scikit-learn.\n",
    "We see that after selecting only the columns we need, we get a smaller data set that is ready for some analysis. Let us turn our data back into a `pd.DataFrame`, which would enable us to use readily avaiable functions from `pandas` library."
   ]
  },
  {
   "cell_type": "code",
   "execution_count": 35,
   "metadata": {},
   "outputs": [
    {
     "data": {
      "text/html": [
       "<div>\n",
       "<style scoped>\n",
       "    .dataframe tbody tr th:only-of-type {\n",
       "        vertical-align: middle;\n",
       "    }\n",
       "\n",
       "    .dataframe tbody tr th {\n",
       "        vertical-align: top;\n",
       "    }\n",
       "\n",
       "    .dataframe thead th {\n",
       "        text-align: right;\n",
       "    }\n",
       "</style>\n",
       "<table border=\"1\" class=\"dataframe\">\n",
       "  <thead>\n",
       "    <tr style=\"text-align: right;\">\n",
       "      <th></th>\n",
       "      <th>PINCP</th>\n",
       "      <th>AGEP</th>\n",
       "      <th>SCHL</th>\n",
       "      <th>MAR</th>\n",
       "      <th>RELP</th>\n",
       "      <th>DIS</th>\n",
       "      <th>ESP</th>\n",
       "      <th>CIT</th>\n",
       "      <th>MIG</th>\n",
       "      <th>MIL</th>\n",
       "      <th>ANC</th>\n",
       "      <th>NATIVITY</th>\n",
       "      <th>DEAR</th>\n",
       "      <th>DEYE</th>\n",
       "      <th>DREM</th>\n",
       "      <th>SEX</th>\n",
       "      <th>group</th>\n",
       "      <th>label</th>\n",
       "    </tr>\n",
       "  </thead>\n",
       "  <tbody>\n",
       "    <tr>\n",
       "      <th>0</th>\n",
       "      <td>0.0</td>\n",
       "      <td>31.0</td>\n",
       "      <td>20.0</td>\n",
       "      <td>1.0</td>\n",
       "      <td>1.0</td>\n",
       "      <td>2.0</td>\n",
       "      <td>0.0</td>\n",
       "      <td>1.0</td>\n",
       "      <td>1.0</td>\n",
       "      <td>4.0</td>\n",
       "      <td>4.0</td>\n",
       "      <td>1.0</td>\n",
       "      <td>2.0</td>\n",
       "      <td>2.0</td>\n",
       "      <td>2.0</td>\n",
       "      <td>2.0</td>\n",
       "      <td>1</td>\n",
       "      <td>False</td>\n",
       "    </tr>\n",
       "    <tr>\n",
       "      <th>1</th>\n",
       "      <td>32000.0</td>\n",
       "      <td>50.0</td>\n",
       "      <td>18.0</td>\n",
       "      <td>5.0</td>\n",
       "      <td>0.0</td>\n",
       "      <td>2.0</td>\n",
       "      <td>0.0</td>\n",
       "      <td>1.0</td>\n",
       "      <td>1.0</td>\n",
       "      <td>4.0</td>\n",
       "      <td>4.0</td>\n",
       "      <td>1.0</td>\n",
       "      <td>2.0</td>\n",
       "      <td>2.0</td>\n",
       "      <td>2.0</td>\n",
       "      <td>2.0</td>\n",
       "      <td>1</td>\n",
       "      <td>True</td>\n",
       "    </tr>\n",
       "    <tr>\n",
       "      <th>2</th>\n",
       "      <td>0.0</td>\n",
       "      <td>2.0</td>\n",
       "      <td>0.0</td>\n",
       "      <td>5.0</td>\n",
       "      <td>2.0</td>\n",
       "      <td>2.0</td>\n",
       "      <td>5.0</td>\n",
       "      <td>1.0</td>\n",
       "      <td>1.0</td>\n",
       "      <td>0.0</td>\n",
       "      <td>4.0</td>\n",
       "      <td>1.0</td>\n",
       "      <td>2.0</td>\n",
       "      <td>2.0</td>\n",
       "      <td>0.0</td>\n",
       "      <td>1.0</td>\n",
       "      <td>1</td>\n",
       "      <td>False</td>\n",
       "    </tr>\n",
       "  </tbody>\n",
       "</table>\n",
       "</div>"
      ],
      "text/plain": [
       "     PINCP  AGEP  SCHL  MAR  RELP  DIS  ESP  CIT  MIG  MIL  ANC  NATIVITY   \n",
       "0      0.0  31.0  20.0  1.0   1.0  2.0  0.0  1.0  1.0  4.0  4.0       1.0  \\\n",
       "1  32000.0  50.0  18.0  5.0   0.0  2.0  0.0  1.0  1.0  4.0  4.0       1.0   \n",
       "2      0.0   2.0   0.0  5.0   2.0  2.0  5.0  1.0  1.0  0.0  4.0       1.0   \n",
       "\n",
       "   DEAR  DEYE  DREM  SEX  group  label  \n",
       "0   2.0   2.0   2.0  2.0      1  False  \n",
       "1   2.0   2.0   2.0  2.0      1   True  \n",
       "2   2.0   2.0   0.0  1.0      1  False  "
      ]
     },
     "execution_count": 35,
     "metadata": {},
     "output_type": "execute_result"
    }
   ],
   "source": [
    "df = pd.DataFrame(X_train, columns = features_to_use)\n",
    "df[\"group\"] = group_train\n",
    "df[\"label\"] = y_train\n",
    "# df.loc[df['group'] == 2]\n",
    "df.head(3)"
   ]
  },
  {
   "cell_type": "markdown",
   "metadata": {},
   "source": [
    "### Basic Discriptives"
   ]
  },
  {
   "attachments": {},
   "cell_type": "markdown",
   "metadata": {},
   "source": [
    "Using this data frame, we first answer the following questions:\n",
    "\n",
    "* How many individuals are in the data?\n",
    "* Of these individuals, what proportion have target label equal to 1? In employment prediction, these would correspond to employed individuals.\n",
    "* Of these individuals, how many are in each of the groups?\n",
    "* In each group, what proportion of individuals have target label equal to 1?\n",
    "* Check for intersectional trends by studying the proportion of positive target labels broken out by your chosen group labels and an additional group label. For example, if you chose race (RAC1P) as your group, then you could also choose sex (SEX) and compute the proportion of positive labels by both race and sex. This might be a good opportunity to use a visualization such as a bar chart, e.g. via the seaborn package.\n",
    "\n",
    "First, let us try to compute these values without the help of `groupby()`."
   ]
  },
  {
   "cell_type": "code",
   "execution_count": 15,
   "metadata": {},
   "outputs": [
    {
     "name": "stdout",
     "output_type": "stream",
     "text": [
      "The Number of Rows is: 54144\n",
      "The Number of Columns is: 18\n",
      "The Number of individual who are employed is: 24858\n",
      "The Percentage of individuals who are employed is: 0.4591090425531915\n",
      "The Number of person who identify as black is: 3626\n",
      "The Number of person who identify as white is: 47332\n",
      "The Number of person who identify as black and is currently employed: 1374\n",
      "The Number of person who identify as white and is currently employed: 22200\n",
      "The Number of person who identify as other racial groups is: 3186\n",
      "The Number of person who identify as other racial groups and is currently employed: 1284\n",
      "The Percentage of person who identify as black and is also employed is: 0.3789299503585218\n",
      "The Percentage of person who identify as white and is also employed is: 0.4690272965435646\n",
      "The Percentage of person who identify as other racial groups and is also employed is: 0.4030131826741996\n"
     ]
    }
   ],
   "source": [
    "print(f\"The Number of Rows is: {df.shape[0]}\")\n",
    "print(f\"The Number of Columns is: {df.shape[1]}\")\n",
    "print(f\"The Number of individual who are employed is: {df.loc[df['label'] == True].shape[0]}\")\n",
    "print(f\"The Percentage of individuals who are employed is: {24858/54144}\")\n",
    "###\n",
    "print(f\"The Number of person who identify as black is: {df.loc[df['group']==2].shape[0]}\")\n",
    "print(f\"The Number of person who identify as white is: {df.loc[df['group']==1].shape[0]}\")\n",
    "print(f\"The Number of person who identify as black and is currently employed: {df.loc[(df['group']==2) & (df['label']==True)].shape[0]}\")\n",
    "print(f\"The Number of person who identify as white and is currently employed: {df.loc[(df['group']==1) & (df['label']==True)].shape[0]}\")\n",
    "###\n",
    "print(f\"The Number of person who identify as other racial groups is: {df.loc[df['group']>= 3].shape[0]}\")\n",
    "print(f\"The Number of person who identify as other racial groups and is currently employed: {df.loc[(df['group']>= 3) & (df['label']==True)].shape[0]}\")\n",
    "###\n",
    "print(f\"The Percentage of person who identify as black and is also employed is: {1374/3626}\")\n",
    "print(f\"The Percentage of person who identify as white and is also employed is: {22200/47332}\")\n",
    "print(f\"The Percentage of person who identify as other racial groups and is also employed is: {1284/3186}\")"
   ]
  },
  {
   "attachments": {},
   "cell_type": "markdown",
   "metadata": {},
   "source": [
    "We see that this is not the most efficient way to compute these values. Hence, let us use `groupby()` and other similar functions that will make our life much easier."
   ]
  },
  {
   "cell_type": "code",
   "execution_count": 16,
   "metadata": {},
   "outputs": [
    {
     "name": "stdout",
     "output_type": "stream",
     "text": [
      "SEX\n",
      "1.0    26578\n",
      "2.0    27566\n",
      "dtype: int64\n"
     ]
    }
   ],
   "source": [
    "print( df.groupby(\"SEX\").size() )"
   ]
  },
  {
   "attachments": {},
   "cell_type": "markdown",
   "metadata": {},
   "source": [
    "We observe that there are $26578$ males and $27566$ females in the data set.\n",
    "Using the `.groupby` function, we see that we can more efficiently obtain the information we needed than the methods demonstrated in the above cell blocks. "
   ]
  },
  {
   "cell_type": "code",
   "execution_count": 17,
   "metadata": {},
   "outputs": [
    {
     "name": "stdout",
     "output_type": "stream",
     "text": [
      "group\n",
      "1    47332\n",
      "2     3626\n",
      "3       83\n",
      "4        1\n",
      "5       29\n",
      "6      942\n",
      "7       17\n",
      "8      906\n",
      "9     1208\n",
      "dtype: int64\n"
     ]
    }
   ],
   "source": [
    "print( df.groupby(\"group\").size() )"
   ]
  },
  {
   "attachments": {},
   "cell_type": "markdown",
   "metadata": {},
   "source": [
    "Since `group 1` denotes white individuals, and `group 2` denotes black individuals, we could read off of the previous block of code that there are $47332$ white individuals and $3636$ black individuals in Indiana in 2018."
   ]
  },
  {
   "cell_type": "code",
   "execution_count": 18,
   "metadata": {},
   "outputs": [
    {
     "name": "stdout",
     "output_type": "stream",
     "text": [
      "label\n",
      "False    29286\n",
      "True     24858\n",
      "dtype: int64\n"
     ]
    }
   ],
   "source": [
    "print(df.groupby(\"label\").size())"
   ]
  },
  {
   "attachments": {},
   "cell_type": "markdown",
   "metadata": {},
   "source": [
    "We see that in Indiana in 2018, there's $29286$ persons who are unemployed, and there's $24858$ persons who are employed. Again, using `.groupby` is much more efficient than what we did previously. The total number of persons in the data set is $54144.$ The (average) percentage of individuals who are employed is about $46$ percent."
   ]
  },
  {
   "cell_type": "code",
   "execution_count": 19,
   "metadata": {},
   "outputs": [
    {
     "name": "stdout",
     "output_type": "stream",
     "text": [
      "group  label\n",
      "1      False    25132\n",
      "       True     22200\n",
      "2      False     2252\n",
      "       True      1374\n",
      "3      False       50\n",
      "       True        33\n",
      "4      True         1\n",
      "5      False       17\n",
      "       True        12\n",
      "6      False      492\n",
      "       True       450\n",
      "7      False        6\n",
      "       True        11\n",
      "8      False      516\n",
      "       True       390\n",
      "9      False      821\n",
      "       True       387\n",
      "dtype: int64\n",
      "the average employment rate (of all people in all groups, in Indiana, in 2018) is:  0.4591090425531915\n"
     ]
    }
   ],
   "source": [
    "print(df.groupby(['group', 'label']).size())\n",
    "print(\"the average employment rate (of all people in all groups, in Indiana, in 2018) is: \" , df[\"label\"].mean())\n"
   ]
  },
  {
   "attachments": {},
   "cell_type": "markdown",
   "metadata": {},
   "source": [
    "We see that in `group 1`, for white individuals in Indiana, in 2018, the number of unemployed individual is $25132$, and the number of employed individual is $22200$. Similarly, for black individuals in Indiana, in 2018, the number of unemployed individual is $2252$, and the number of employed individual is $1374$. However, it might be more clear to see the employment rate for better comparison. The following line of code shows the employment rate for each group. The employment rate for white individual in IN in 2018 is $47$ percent. The employment for black individual in IN in 2018 is $37.9$ percent. Hence, we see that the employment rate is higher for a white individual than a black individual statistically. Also, we see that there is only one person in `group 4`, which is Alaska Native. Since there is only one person in this group, we should not be too surprised if we see that the employment rate for this group is $100$ percent, since this just means this one person is employed. \n"
   ]
  },
  {
   "cell_type": "code",
   "execution_count": 20,
   "metadata": {},
   "outputs": [
    {
     "name": "stdout",
     "output_type": "stream",
     "text": [
      "group\n",
      "1    0.469027\n",
      "2    0.378930\n",
      "3    0.397590\n",
      "4    1.000000\n",
      "5    0.413793\n",
      "6    0.477707\n",
      "7    0.647059\n",
      "8    0.430464\n",
      "9    0.320364\n",
      "Name: label, dtype: float64\n"
     ]
    }
   ],
   "source": [
    "print( df.groupby(\"group\")[\"label\"].mean() )"
   ]
  },
  {
   "attachments": {},
   "cell_type": "markdown",
   "metadata": {},
   "source": [
    "More efficiently, we could use the following line of code and read off the employment rate for persons based on their race and gender binary. We see that for people identifying as white male, the employment rate is $50.7$ percent. For people identifying as white female, the employment rate is $43.2$ percent.\n",
    "Similarly, we see that for people identifying as black male, the employment rate is $35.7$ percent. For people identifying as black female, the employment rate is $40$ percent."
   ]
  },
  {
   "cell_type": "code",
   "execution_count": 21,
   "metadata": {},
   "outputs": [
    {
     "data": {
      "text/plain": [
       "group  SEX\n",
       "1      1.0    0.507493\n",
       "       2.0    0.431978\n",
       "2      1.0    0.357579\n",
       "       2.0    0.400000\n",
       "3      1.0    0.348837\n",
       "       2.0    0.450000\n",
       "4      2.0    1.000000\n",
       "5      1.0    0.352941\n",
       "       2.0    0.500000\n",
       "6      1.0    0.510067\n",
       "       2.0    0.448485\n",
       "7      1.0    0.666667\n",
       "       2.0    0.625000\n",
       "8      1.0    0.475877\n",
       "       2.0    0.384444\n",
       "9      1.0    0.312178\n",
       "       2.0    0.328000\n",
       "Name: label, dtype: float64"
      ]
     },
     "execution_count": 21,
     "metadata": {},
     "output_type": "execute_result"
    }
   ],
   "source": [
    "df.groupby([\"group\",\"SEX\"])[\"label\"].mean()"
   ]
  },
  {
   "attachments": {},
   "cell_type": "markdown",
   "metadata": {},
   "source": [
    "The below graph shows the number of female in each racial group and male in each racial group for the PUMS data of Indiana in 2018. Recall that `group 1`, shown in blue here, denotes white individuals, and `group 2`, shown in orange here, denotes black individuals. The rest of the groups denotes several other racial groups, and the detailed encoding could be accessed on PUMS website. The main takaway here is that the population in Indiana in 2018 is predominantly white. "
   ]
  },
  {
   "cell_type": "code",
   "execution_count": 36,
   "metadata": {},
   "outputs": [
    {
     "data": {
      "text/plain": [
       "[Text(0.5, 1.0, 'Bar Plot of number of female and male in each racial group')]"
      ]
     },
     "execution_count": 36,
     "metadata": {},
     "output_type": "execute_result"
    },
    {
     "data": {
      "image/png": "[encoded data removed]",
      "text/plain": [
       "<Figure size 640x480 with 1 Axes>"
      ]
     },
     "metadata": {},
     "output_type": "display_data"
    }
   ],
   "source": [
    "counts = df.groupby([\"group\", \"SEX\"]).size().reset_index(name = \"n\")\n",
    "sns.barplot(data = counts, x = \"SEX\", y = \"n\", hue = \"group\").set(title=\"Bar Plot of number of female and male in each racial group\")"
   ]
  },
  {
   "attachments": {},
   "cell_type": "markdown",
   "metadata": {},
   "source": [
    "In the following cell, we show a bar graph of average employment rate for individuals in different racial and gender binary categories. We should ignore `group 4`, which is Alaska Native, since previously, as we are tallying the number of individuals in each racial group, we see that there is only one person in `group 4`, and that person is also recorded as employed, so `group 4` female has a employment rate of $100$ percent is because there's only one person who is also employed."
   ]
  },
  {
   "cell_type": "code",
   "execution_count": 37,
   "metadata": {},
   "outputs": [
    {
     "data": {
      "text/plain": [
       "[Text(0.5, 1.0, 'Bar Plot of average employment rate for female and male individuals in each racial categories')]"
      ]
     },
     "execution_count": 37,
     "metadata": {},
     "output_type": "execute_result"
    },
    {
     "data": {
      "image/png": "[encoded data removed]",
      "text/plain": [
       "<Figure size 640x480 with 1 Axes>"
      ]
     },
     "metadata": {},
     "output_type": "display_data"
    }
   ],
   "source": [
    "\n",
    "percentages = df.groupby([\"group\", \"SEX\"])[\"label\"].mean().reset_index()\n",
    "sns.barplot(data = percentages, x = \"SEX\", y = \"label\", hue = \"group\").set(title=\"Bar Plot of average employment rate for female and male individuals in each racial categories\")"
   ]
  },
  {
   "attachments": {},
   "cell_type": "markdown",
   "metadata": {},
   "source": [
    "# Moving on to fitting models\n",
    "## fit a logistic regression model\n",
    "After consideration, we decide to go with logistic regression. We build our model, and we fit our model on our training data, which is stored in variable `X_train`, and `y_train`. "
   ]
  },
  {
   "cell_type": "code",
   "execution_count": 24,
   "metadata": {},
   "outputs": [
    {
     "data": {
      "text/html": [
       "<style>#sk-container-id-1 {color: black;background-color: white;}#sk-container-id-1 pre{padding: 0;}#sk-container-id-1 div.sk-toggleable {background-color: white;}#sk-container-id-1 label.sk-toggleable__label {cursor: pointer;display: block;width: 100%;margin-bottom: 0;padding: 0.3em;box-sizing: border-box;text-align: center;}#sk-container-id-1 label.sk-toggleable__label-arrow:before {content: \"▸\";float: left;margin-right: 0.25em;color: #696969;}#sk-container-id-1 label.sk-toggleable__label-arrow:hover:before {color: black;}#sk-container-id-1 div.sk-estimator:hover label.sk-toggleable__label-arrow:before {color: black;}#sk-container-id-1 div.sk-toggleable__content {max-height: 0;max-width: 0;overflow: hidden;text-align: left;background-color: #f0f8ff;}#sk-container-id-1 div.sk-toggleable__content pre {margin: 0.2em;color: black;border-radius: 0.25em;background-color: #f0f8ff;}#sk-container-id-1 input.sk-toggleable__control:checked~div.sk-toggleable__content {max-height: 200px;max-width: 100%;overflow: auto;}#sk-container-id-1 input.sk-toggleable__control:checked~label.sk-toggleable__label-arrow:before {content: \"▾\";}#sk-container-id-1 div.sk-estimator input.sk-toggleable__control:checked~label.sk-toggleable__label {background-color: #d4ebff;}#sk-container-id-1 div.sk-label input.sk-toggleable__control:checked~label.sk-toggleable__label {background-color: #d4ebff;}#sk-container-id-1 input.sk-hidden--visually {border: 0;clip: rect(1px 1px 1px 1px);clip: rect(1px, 1px, 1px, 1px);height: 1px;margin: -1px;overflow: hidden;padding: 0;position: absolute;width: 1px;}#sk-container-id-1 div.sk-estimator {font-family: monospace;background-color: #f0f8ff;border: 1px dotted black;border-radius: 0.25em;box-sizing: border-box;margin-bottom: 0.5em;}#sk-container-id-1 div.sk-estimator:hover {background-color: #d4ebff;}#sk-container-id-1 div.sk-parallel-item::after {content: \"\";width: 100%;border-bottom: 1px solid gray;flex-grow: 1;}#sk-container-id-1 div.sk-label:hover label.sk-toggleable__label {background-color: #d4ebff;}#sk-container-id-1 div.sk-serial::before {content: \"\";position: absolute;border-left: 1px solid gray;box-sizing: border-box;top: 0;bottom: 0;left: 50%;z-index: 0;}#sk-container-id-1 div.sk-serial {display: flex;flex-direction: column;align-items: center;background-color: white;padding-right: 0.2em;padding-left: 0.2em;position: relative;}#sk-container-id-1 div.sk-item {position: relative;z-index: 1;}#sk-container-id-1 div.sk-parallel {display: flex;align-items: stretch;justify-content: center;background-color: white;position: relative;}#sk-container-id-1 div.sk-item::before, #sk-container-id-1 div.sk-parallel-item::before {content: \"\";position: absolute;border-left: 1px solid gray;box-sizing: border-box;top: 0;bottom: 0;left: 50%;z-index: -1;}#sk-container-id-1 div.sk-parallel-item {display: flex;flex-direction: column;z-index: 1;position: relative;background-color: white;}#sk-container-id-1 div.sk-parallel-item:first-child::after {align-self: flex-end;width: 50%;}#sk-container-id-1 div.sk-parallel-item:last-child::after {align-self: flex-start;width: 50%;}#sk-container-id-1 div.sk-parallel-item:only-child::after {width: 0;}#sk-container-id-1 div.sk-dashed-wrapped {border: 1px dashed gray;margin: 0 0.4em 0.5em 0.4em;box-sizing: border-box;padding-bottom: 0.4em;background-color: white;}#sk-container-id-1 div.sk-label label {font-family: monospace;font-weight: bold;display: inline-block;line-height: 1.2em;}#sk-container-id-1 div.sk-label-container {text-align: center;}#sk-container-id-1 div.sk-container {/* jupyter's `normalize.less` sets `[hidden] { display: none; }` but bootstrap.min.css set `[hidden] { display: none !important; }` so we also need the `!important` here to be able to override the default hidden behavior on the sphinx rendered scikit-learn.org. See: https://github.com/scikit-learn/scikit-learn/issues/21755 */display: inline-block !important;position: relative;}#sk-container-id-1 div.sk-text-repr-fallback {display: none;}</style><div id=\"sk-container-id-1\" class=\"sk-top-container\"><div class=\"sk-text-repr-fallback\"><pre>LogisticRegression(random_state=0, solver=&#x27;liblinear&#x27;)</pre><b>In a Jupyter environment, please rerun this cell to show the HTML representation or trust the notebook. <br />On GitHub, the HTML representation is unable to render, please try loading this page with nbviewer.org.</b></div><div class=\"sk-container\" hidden><div class=\"sk-item\"><div class=\"sk-estimator sk-toggleable\"><input class=\"sk-toggleable__control sk-hidden--visually\" id=\"sk-estimator-id-1\" type=\"checkbox\" checked><label for=\"sk-estimator-id-1\" class=\"sk-toggleable__label sk-toggleable__label-arrow\">LogisticRegression</label><div class=\"sk-toggleable__content\"><pre>LogisticRegression(random_state=0, solver=&#x27;liblinear&#x27;)</pre></div></div></div></div></div>"
      ],
      "text/plain": [
       "LogisticRegression(random_state=0, solver='liblinear')"
      ]
     },
     "execution_count": 24,
     "metadata": {},
     "output_type": "execute_result"
    }
   ],
   "source": [
    "# model = make_pipeline(StandardScaler(), LogisticRegression())\n",
    "model = LogisticRegression(solver='liblinear', random_state=0)\n",
    "model.fit(X_train, y_train)"
   ]
  },
  {
   "cell_type": "code",
   "execution_count": 42,
   "metadata": {},
   "outputs": [
    {
     "name": "stdout",
     "output_type": "stream",
     "text": [
      "The overall training score is: 0.84 for logistic regression with solver equal to liblinear\n",
      "The overall testing score is: 0.833 for logistic regression with solver equal to liblinear\n"
     ]
    }
   ],
   "source": [
    "train_score = model.score(X_train,y_train)\n",
    "test_score = model.score(X_test,y_test)\n",
    "print(f\"The overall training score is: {round(train_score,3)} for logistic regression with solver equal to liblinear\")\n",
    "print(f\"The overall testing score is: {round(test_score, 3)} for logistic regression with solver equal to liblinear\")"
   ]
  },
  {
   "cell_type": "code",
   "execution_count": 100,
   "metadata": {},
   "outputs": [
    {
     "name": "stdout",
     "output_type": "stream",
     "text": [
      " The overall testing accuracy in predicting whether someone is employed in 2018 in Indiana is: 0.8331855791962175 \n",
      "  The accuracy for white individuals is 0.8338424983027835 \n",
      "  The accuracy for black individuals is 0.8265086206896551\n",
      " Classification Report:\n",
      "              precision    recall  f1-score   support\n",
      "\n",
      "       False       0.82      0.89      0.85      7277\n",
      "        True       0.86      0.77      0.81      6259\n",
      "\n",
      "    accuracy                           0.83     13536\n",
      "   macro avg       0.84      0.83      0.83     13536\n",
      "weighted avg       0.83      0.83      0.83     13536\n",
      "\n"
     ]
    }
   ],
   "source": [
    "y_hat = model.predict(X_test)\n",
    "print(f\" The overall testing accuracy in predicting whether someone is employed in 2018 in Indiana is: {(y_hat == y_test).mean()}\", \"\\n\",\n",
    "    f\" The accuracy for white individuals is {(y_hat == y_test)[group_test == 1].mean()}\", \"\\n\", \n",
    "    f\" The accuracy for black individuals is {(y_hat == y_test)[group_test == 2].mean()}\")\n",
    "print(f\" Classification Report:\\n{classification_report(y_test, y_hat)}\")"
   ]
  },
  {
   "attachments": {},
   "cell_type": "markdown",
   "metadata": {},
   "source": [
    "##### Cross Validation for Logistic Regression"
   ]
  },
  {
   "cell_type": "code",
   "execution_count": 52,
   "metadata": {},
   "outputs": [
    {
     "name": "stdout",
     "output_type": "stream",
     "text": [
      "the cross validation scores are: [0.83876628 0.83876628 0.83830455 0.84246006 0.8405061 ]\n",
      "the average score for cross validation is: 0.84\n"
     ]
    }
   ],
   "source": [
    "# cross validation\n",
    "cv_scores = cross_val_score(model, X_train, y_train, cv=5)\n",
    "print(f\"the cross validation scores are: {cv_scores}\")\n",
    "cv_average = cv_scores.mean()\n",
    "print(f\"the average score for cross validation is: {round(cv_average,3)}\")"
   ]
  },
  {
   "attachments": {},
   "cell_type": "markdown",
   "metadata": {},
   "source": [
    "### Logistic Regression with Polynomial Features"
   ]
  },
  {
   "cell_type": "code",
   "execution_count": 82,
   "metadata": {},
   "outputs": [],
   "source": [
    "plr = PolynomialFeatures(degree=2, include_bias=False)\n",
    "poly_feature = plr.fit_transform(X_train)"
   ]
  },
  {
   "attachments": {},
   "cell_type": "markdown",
   "metadata": {},
   "source": [
    "By using `fit_transform()`, we have fitted and transformed our traing data `X_train`. We also created the square of the numbers, since we have set the degree to $2$. We could print out the shapes of `poly_feature` and `X_train` for comparison."
   ]
  },
  {
   "cell_type": "code",
   "execution_count": 83,
   "metadata": {},
   "outputs": [
    {
     "name": "stdout",
     "output_type": "stream",
     "text": [
      "(54144, 152) (54144, 16)\n"
     ]
    }
   ],
   "source": [
    "print(poly_feature.shape, X_train.shape)"
   ]
  },
  {
   "cell_type": "code",
   "execution_count": 84,
   "metadata": {},
   "outputs": [
    {
     "data": {
      "text/html": [
       "<style>#sk-container-id-6 {color: black;background-color: white;}#sk-container-id-6 pre{padding: 0;}#sk-container-id-6 div.sk-toggleable {background-color: white;}#sk-container-id-6 label.sk-toggleable__label {cursor: pointer;display: block;width: 100%;margin-bottom: 0;padding: 0.3em;box-sizing: border-box;text-align: center;}#sk-container-id-6 label.sk-toggleable__label-arrow:before {content: \"▸\";float: left;margin-right: 0.25em;color: #696969;}#sk-container-id-6 label.sk-toggleable__label-arrow:hover:before {color: black;}#sk-container-id-6 div.sk-estimator:hover label.sk-toggleable__label-arrow:before {color: black;}#sk-container-id-6 div.sk-toggleable__content {max-height: 0;max-width: 0;overflow: hidden;text-align: left;background-color: #f0f8ff;}#sk-container-id-6 div.sk-toggleable__content pre {margin: 0.2em;color: black;border-radius: 0.25em;background-color: #f0f8ff;}#sk-container-id-6 input.sk-toggleable__control:checked~div.sk-toggleable__content {max-height: 200px;max-width: 100%;overflow: auto;}#sk-container-id-6 input.sk-toggleable__control:checked~label.sk-toggleable__label-arrow:before {content: \"▾\";}#sk-container-id-6 div.sk-estimator input.sk-toggleable__control:checked~label.sk-toggleable__label {background-color: #d4ebff;}#sk-container-id-6 div.sk-label input.sk-toggleable__control:checked~label.sk-toggleable__label {background-color: #d4ebff;}#sk-container-id-6 input.sk-hidden--visually {border: 0;clip: rect(1px 1px 1px 1px);clip: rect(1px, 1px, 1px, 1px);height: 1px;margin: -1px;overflow: hidden;padding: 0;position: absolute;width: 1px;}#sk-container-id-6 div.sk-estimator {font-family: monospace;background-color: #f0f8ff;border: 1px dotted black;border-radius: 0.25em;box-sizing: border-box;margin-bottom: 0.5em;}#sk-container-id-6 div.sk-estimator:hover {background-color: #d4ebff;}#sk-container-id-6 div.sk-parallel-item::after {content: \"\";width: 100%;border-bottom: 1px solid gray;flex-grow: 1;}#sk-container-id-6 div.sk-label:hover label.sk-toggleable__label {background-color: #d4ebff;}#sk-container-id-6 div.sk-serial::before {content: \"\";position: absolute;border-left: 1px solid gray;box-sizing: border-box;top: 0;bottom: 0;left: 50%;z-index: 0;}#sk-container-id-6 div.sk-serial {display: flex;flex-direction: column;align-items: center;background-color: white;padding-right: 0.2em;padding-left: 0.2em;position: relative;}#sk-container-id-6 div.sk-item {position: relative;z-index: 1;}#sk-container-id-6 div.sk-parallel {display: flex;align-items: stretch;justify-content: center;background-color: white;position: relative;}#sk-container-id-6 div.sk-item::before, #sk-container-id-6 div.sk-parallel-item::before {content: \"\";position: absolute;border-left: 1px solid gray;box-sizing: border-box;top: 0;bottom: 0;left: 50%;z-index: -1;}#sk-container-id-6 div.sk-parallel-item {display: flex;flex-direction: column;z-index: 1;position: relative;background-color: white;}#sk-container-id-6 div.sk-parallel-item:first-child::after {align-self: flex-end;width: 50%;}#sk-container-id-6 div.sk-parallel-item:last-child::after {align-self: flex-start;width: 50%;}#sk-container-id-6 div.sk-parallel-item:only-child::after {width: 0;}#sk-container-id-6 div.sk-dashed-wrapped {border: 1px dashed gray;margin: 0 0.4em 0.5em 0.4em;box-sizing: border-box;padding-bottom: 0.4em;background-color: white;}#sk-container-id-6 div.sk-label label {font-family: monospace;font-weight: bold;display: inline-block;line-height: 1.2em;}#sk-container-id-6 div.sk-label-container {text-align: center;}#sk-container-id-6 div.sk-container {/* jupyter's `normalize.less` sets `[hidden] { display: none; }` but bootstrap.min.css set `[hidden] { display: none !important; }` so we also need the `!important` here to be able to override the default hidden behavior on the sphinx rendered scikit-learn.org. See: https://github.com/scikit-learn/scikit-learn/issues/21755 */display: inline-block !important;position: relative;}#sk-container-id-6 div.sk-text-repr-fallback {display: none;}</style><div id=\"sk-container-id-6\" class=\"sk-top-container\"><div class=\"sk-text-repr-fallback\"><pre>LogisticRegression()</pre><b>In a Jupyter environment, please rerun this cell to show the HTML representation or trust the notebook. <br />On GitHub, the HTML representation is unable to render, please try loading this page with nbviewer.org.</b></div><div class=\"sk-container\" hidden><div class=\"sk-item\"><div class=\"sk-estimator sk-toggleable\"><input class=\"sk-toggleable__control sk-hidden--visually\" id=\"sk-estimator-id-6\" type=\"checkbox\" checked><label for=\"sk-estimator-id-6\" class=\"sk-toggleable__label sk-toggleable__label-arrow\">LogisticRegression</label><div class=\"sk-toggleable__content\"><pre>LogisticRegression()</pre></div></div></div></div></div>"
      ],
      "text/plain": [
       "LogisticRegression()"
      ]
     },
     "execution_count": 84,
     "metadata": {},
     "output_type": "execute_result"
    }
   ],
   "source": [
    "LR_poly = LogisticRegression()\n",
    "LR_poly.fit(poly_feature, y_train)"
   ]
  },
  {
   "cell_type": "code",
   "execution_count": 92,
   "metadata": {},
   "outputs": [
    {
     "name": "stdout",
     "output_type": "stream",
     "text": [
      "The training score is: 0.7287603427895981\n",
      " The overall training accuracy for polynomial features to predict whether someone is employed in 2018 in Indiana is: 0.729\n",
      " Classification Report:\n",
      "              precision    recall  f1-score   support\n",
      "\n",
      "       False       1.00      0.50      0.67     29286\n",
      "        True       0.63      1.00      0.77     24858\n",
      "\n",
      "    accuracy                           0.73     54144\n",
      "   macro avg       0.81      0.75      0.72     54144\n",
      "weighted avg       0.83      0.73      0.71     54144\n",
      "\n"
     ]
    }
   ],
   "source": [
    "print(f\"The training score is: {LR_poly.score(poly_feature, y_train)}\")\n",
    "y_hat_poly = LR_poly.predict(poly_feature)\n",
    "score = (y_hat_poly == y_train).mean()\n",
    "print(f\" The overall training accuracy for polynomial features to predict whether someone is employed in 2018 in Indiana is: {round(score, 3)}\")\n",
    "print(f\" Classification Report:\\n{classification_report(y_train, y_hat_poly)}\")"
   ]
  },
  {
   "attachments": {},
   "cell_type": "markdown",
   "metadata": {},
   "source": [
    "##### Cross Validation for Polynomial Features Logistic Regression"
   ]
  },
  {
   "cell_type": "code",
   "execution_count": 99,
   "metadata": {},
   "outputs": [
    {
     "name": "stdout",
     "output_type": "stream",
     "text": [
      "\n",
      "the cross validation scores for degree two polynomial logistic regression are: [0.83313325 0.83830455 0.82814664 0.82500693 0.83053195]\n",
      "the average score for cross validation is: 0.831 for degree two polynomial logistic regression\n",
      "\n"
     ]
    }
   ],
   "source": [
    "# cross validation\n",
    "with warnings.catch_warnings():\n",
    "    warnings.simplefilter(\"always\")\n",
    "    warnings.filterwarnings(\"ignore\")\n",
    "    cv_scores_plr = cross_val_score(LR_poly, X_train, y_train, cv=5)\n",
    "print(f\"\\nthe cross validation scores for degree two polynomial logistic regression are: {cv_scores_plr}\")\n",
    "cv_average_plr = cv_scores_plr.mean()\n",
    "print(f\"the average score for cross validation is: {round(cv_average_plr,3)} for degree two polynomial logistic regression\\n\")"
   ]
  },
  {
   "attachments": {},
   "cell_type": "markdown",
   "metadata": {},
   "source": [
    "## Fit a `DecisionTreeClassifier` model \n",
    "Now, let us fit another model."
   ]
  },
  {
   "cell_type": "code",
   "execution_count": 46,
   "metadata": {},
   "outputs": [
    {
     "data": {
      "text/html": [
       "<style>#sk-container-id-2 {color: black;background-color: white;}#sk-container-id-2 pre{padding: 0;}#sk-container-id-2 div.sk-toggleable {background-color: white;}#sk-container-id-2 label.sk-toggleable__label {cursor: pointer;display: block;width: 100%;margin-bottom: 0;padding: 0.3em;box-sizing: border-box;text-align: center;}#sk-container-id-2 label.sk-toggleable__label-arrow:before {content: \"▸\";float: left;margin-right: 0.25em;color: #696969;}#sk-container-id-2 label.sk-toggleable__label-arrow:hover:before {color: black;}#sk-container-id-2 div.sk-estimator:hover label.sk-toggleable__label-arrow:before {color: black;}#sk-container-id-2 div.sk-toggleable__content {max-height: 0;max-width: 0;overflow: hidden;text-align: left;background-color: #f0f8ff;}#sk-container-id-2 div.sk-toggleable__content pre {margin: 0.2em;color: black;border-radius: 0.25em;background-color: #f0f8ff;}#sk-container-id-2 input.sk-toggleable__control:checked~div.sk-toggleable__content {max-height: 200px;max-width: 100%;overflow: auto;}#sk-container-id-2 input.sk-toggleable__control:checked~label.sk-toggleable__label-arrow:before {content: \"▾\";}#sk-container-id-2 div.sk-estimator input.sk-toggleable__control:checked~label.sk-toggleable__label {background-color: #d4ebff;}#sk-container-id-2 div.sk-label input.sk-toggleable__control:checked~label.sk-toggleable__label {background-color: #d4ebff;}#sk-container-id-2 input.sk-hidden--visually {border: 0;clip: rect(1px 1px 1px 1px);clip: rect(1px, 1px, 1px, 1px);height: 1px;margin: -1px;overflow: hidden;padding: 0;position: absolute;width: 1px;}#sk-container-id-2 div.sk-estimator {font-family: monospace;background-color: #f0f8ff;border: 1px dotted black;border-radius: 0.25em;box-sizing: border-box;margin-bottom: 0.5em;}#sk-container-id-2 div.sk-estimator:hover {background-color: #d4ebff;}#sk-container-id-2 div.sk-parallel-item::after {content: \"\";width: 100%;border-bottom: 1px solid gray;flex-grow: 1;}#sk-container-id-2 div.sk-label:hover label.sk-toggleable__label {background-color: #d4ebff;}#sk-container-id-2 div.sk-serial::before {content: \"\";position: absolute;border-left: 1px solid gray;box-sizing: border-box;top: 0;bottom: 0;left: 50%;z-index: 0;}#sk-container-id-2 div.sk-serial {display: flex;flex-direction: column;align-items: center;background-color: white;padding-right: 0.2em;padding-left: 0.2em;position: relative;}#sk-container-id-2 div.sk-item {position: relative;z-index: 1;}#sk-container-id-2 div.sk-parallel {display: flex;align-items: stretch;justify-content: center;background-color: white;position: relative;}#sk-container-id-2 div.sk-item::before, #sk-container-id-2 div.sk-parallel-item::before {content: \"\";position: absolute;border-left: 1px solid gray;box-sizing: border-box;top: 0;bottom: 0;left: 50%;z-index: -1;}#sk-container-id-2 div.sk-parallel-item {display: flex;flex-direction: column;z-index: 1;position: relative;background-color: white;}#sk-container-id-2 div.sk-parallel-item:first-child::after {align-self: flex-end;width: 50%;}#sk-container-id-2 div.sk-parallel-item:last-child::after {align-self: flex-start;width: 50%;}#sk-container-id-2 div.sk-parallel-item:only-child::after {width: 0;}#sk-container-id-2 div.sk-dashed-wrapped {border: 1px dashed gray;margin: 0 0.4em 0.5em 0.4em;box-sizing: border-box;padding-bottom: 0.4em;background-color: white;}#sk-container-id-2 div.sk-label label {font-family: monospace;font-weight: bold;display: inline-block;line-height: 1.2em;}#sk-container-id-2 div.sk-label-container {text-align: center;}#sk-container-id-2 div.sk-container {/* jupyter's `normalize.less` sets `[hidden] { display: none; }` but bootstrap.min.css set `[hidden] { display: none !important; }` so we also need the `!important` here to be able to override the default hidden behavior on the sphinx rendered scikit-learn.org. See: https://github.com/scikit-learn/scikit-learn/issues/21755 */display: inline-block !important;position: relative;}#sk-container-id-2 div.sk-text-repr-fallback {display: none;}</style><div id=\"sk-container-id-2\" class=\"sk-top-container\"><div class=\"sk-text-repr-fallback\"><pre>DecisionTreeClassifier(max_depth=5)</pre><b>In a Jupyter environment, please rerun this cell to show the HTML representation or trust the notebook. <br />On GitHub, the HTML representation is unable to render, please try loading this page with nbviewer.org.</b></div><div class=\"sk-container\" hidden><div class=\"sk-item\"><div class=\"sk-estimator sk-toggleable\"><input class=\"sk-toggleable__control sk-hidden--visually\" id=\"sk-estimator-id-2\" type=\"checkbox\" checked><label for=\"sk-estimator-id-2\" class=\"sk-toggleable__label sk-toggleable__label-arrow\">DecisionTreeClassifier</label><div class=\"sk-toggleable__content\"><pre>DecisionTreeClassifier(max_depth=5)</pre></div></div></div></div></div>"
      ],
      "text/plain": [
       "DecisionTreeClassifier(max_depth=5)"
      ]
     },
     "execution_count": 46,
     "metadata": {},
     "output_type": "execute_result"
    }
   ],
   "source": [
    "decisiontree = DecisionTreeClassifier(max_depth=5,\n",
    "                       splitter=\"best\",\n",
    "                        max_features=None,\n",
    "                         random_state=None,\n",
    "                          max_leaf_nodes=None,\n",
    "                           class_weight=None)\n",
    "decisiontree.fit(X_train, y_train)"
   ]
  },
  {
   "attachments": {},
   "cell_type": "markdown",
   "metadata": {},
   "source": [
    "Now we score our Decision Tree Classifier on the test sets, and we could read off the overall test score as $0.833$."
   ]
  },
  {
   "cell_type": "code",
   "execution_count": 47,
   "metadata": {},
   "outputs": [
    {
     "name": "stdout",
     "output_type": "stream",
     "text": [
      "The overall training score is: 0.886 for Decision Tree Classifier with max_depth equals 5\n",
      "The overall testing score is: 0.884 for Decision Tree Classifier with max_depth equals 5\n"
     ]
    }
   ],
   "source": [
    "train_score_dt = decisiontree.score(X_train,y_train)\n",
    "test_score_dt = decisiontree.score(X_test,y_test)\n",
    "\n",
    "print(f\"The overall training score is: {round(train_score_dt,3)} for Decision Tree Classifier with max_depth equals 5\")\n",
    "print(f\"The overall testing score is: {round(test_score_dt, 3)} for Decision Tree Classifier with max_depth equals 5\")"
   ]
  },
  {
   "attachments": {},
   "cell_type": "markdown",
   "metadata": {},
   "source": [
    "##### Cross Validation for Decision Tree Classifier"
   ]
  },
  {
   "cell_type": "code",
   "execution_count": 54,
   "metadata": {},
   "outputs": [
    {
     "name": "stdout",
     "output_type": "stream",
     "text": [
      "the cross validation scores are: [0.88170653 0.88854003 0.8847539  0.88262998 0.88520502]\n",
      "the average score for cross validation is: 0.885\n"
     ]
    }
   ],
   "source": [
    "# cross validation\n",
    "cv_scores_df = cross_val_score(decisiontree, X_train, y_train, cv=5)\n",
    "print(f\"the cross validation scores are: {cv_scores_df}\")\n",
    "cv_average_df = cv_scores_df.mean()\n",
    "print(f\"the average score for cross validation is: {round(cv_average_df,3)}\")"
   ]
  },
  {
   "attachments": {},
   "cell_type": "markdown",
   "metadata": {},
   "source": [
    "##### Tuning `DecisionTreeClassifier`"
   ]
  },
  {
   "cell_type": "code",
   "execution_count": 62,
   "metadata": {},
   "outputs": [
    {
     "data": {
      "text/html": [
       "<style>#sk-container-id-4 {color: black;background-color: white;}#sk-container-id-4 pre{padding: 0;}#sk-container-id-4 div.sk-toggleable {background-color: white;}#sk-container-id-4 label.sk-toggleable__label {cursor: pointer;display: block;width: 100%;margin-bottom: 0;padding: 0.3em;box-sizing: border-box;text-align: center;}#sk-container-id-4 label.sk-toggleable__label-arrow:before {content: \"▸\";float: left;margin-right: 0.25em;color: #696969;}#sk-container-id-4 label.sk-toggleable__label-arrow:hover:before {color: black;}#sk-container-id-4 div.sk-estimator:hover label.sk-toggleable__label-arrow:before {color: black;}#sk-container-id-4 div.sk-toggleable__content {max-height: 0;max-width: 0;overflow: hidden;text-align: left;background-color: #f0f8ff;}#sk-container-id-4 div.sk-toggleable__content pre {margin: 0.2em;color: black;border-radius: 0.25em;background-color: #f0f8ff;}#sk-container-id-4 input.sk-toggleable__control:checked~div.sk-toggleable__content {max-height: 200px;max-width: 100%;overflow: auto;}#sk-container-id-4 input.sk-toggleable__control:checked~label.sk-toggleable__label-arrow:before {content: \"▾\";}#sk-container-id-4 div.sk-estimator input.sk-toggleable__control:checked~label.sk-toggleable__label {background-color: #d4ebff;}#sk-container-id-4 div.sk-label input.sk-toggleable__control:checked~label.sk-toggleable__label {background-color: #d4ebff;}#sk-container-id-4 input.sk-hidden--visually {border: 0;clip: rect(1px 1px 1px 1px);clip: rect(1px, 1px, 1px, 1px);height: 1px;margin: -1px;overflow: hidden;padding: 0;position: absolute;width: 1px;}#sk-container-id-4 div.sk-estimator {font-family: monospace;background-color: #f0f8ff;border: 1px dotted black;border-radius: 0.25em;box-sizing: border-box;margin-bottom: 0.5em;}#sk-container-id-4 div.sk-estimator:hover {background-color: #d4ebff;}#sk-container-id-4 div.sk-parallel-item::after {content: \"\";width: 100%;border-bottom: 1px solid gray;flex-grow: 1;}#sk-container-id-4 div.sk-label:hover label.sk-toggleable__label {background-color: #d4ebff;}#sk-container-id-4 div.sk-serial::before {content: \"\";position: absolute;border-left: 1px solid gray;box-sizing: border-box;top: 0;bottom: 0;left: 50%;z-index: 0;}#sk-container-id-4 div.sk-serial {display: flex;flex-direction: column;align-items: center;background-color: white;padding-right: 0.2em;padding-left: 0.2em;position: relative;}#sk-container-id-4 div.sk-item {position: relative;z-index: 1;}#sk-container-id-4 div.sk-parallel {display: flex;align-items: stretch;justify-content: center;background-color: white;position: relative;}#sk-container-id-4 div.sk-item::before, #sk-container-id-4 div.sk-parallel-item::before {content: \"\";position: absolute;border-left: 1px solid gray;box-sizing: border-box;top: 0;bottom: 0;left: 50%;z-index: -1;}#sk-container-id-4 div.sk-parallel-item {display: flex;flex-direction: column;z-index: 1;position: relative;background-color: white;}#sk-container-id-4 div.sk-parallel-item:first-child::after {align-self: flex-end;width: 50%;}#sk-container-id-4 div.sk-parallel-item:last-child::after {align-self: flex-start;width: 50%;}#sk-container-id-4 div.sk-parallel-item:only-child::after {width: 0;}#sk-container-id-4 div.sk-dashed-wrapped {border: 1px dashed gray;margin: 0 0.4em 0.5em 0.4em;box-sizing: border-box;padding-bottom: 0.4em;background-color: white;}#sk-container-id-4 div.sk-label label {font-family: monospace;font-weight: bold;display: inline-block;line-height: 1.2em;}#sk-container-id-4 div.sk-label-container {text-align: center;}#sk-container-id-4 div.sk-container {/* jupyter's `normalize.less` sets `[hidden] { display: none; }` but bootstrap.min.css set `[hidden] { display: none !important; }` so we also need the `!important` here to be able to override the default hidden behavior on the sphinx rendered scikit-learn.org. See: https://github.com/scikit-learn/scikit-learn/issues/21755 */display: inline-block !important;position: relative;}#sk-container-id-4 div.sk-text-repr-fallback {display: none;}</style><div id=\"sk-container-id-4\" class=\"sk-top-container\"><div class=\"sk-text-repr-fallback\"><pre>DecisionTreeClassifier()</pre><b>In a Jupyter environment, please rerun this cell to show the HTML representation or trust the notebook. <br />On GitHub, the HTML representation is unable to render, please try loading this page with nbviewer.org.</b></div><div class=\"sk-container\" hidden><div class=\"sk-item\"><div class=\"sk-estimator sk-toggleable\"><input class=\"sk-toggleable__control sk-hidden--visually\" id=\"sk-estimator-id-4\" type=\"checkbox\" checked><label for=\"sk-estimator-id-4\" class=\"sk-toggleable__label sk-toggleable__label-arrow\">DecisionTreeClassifier</label><div class=\"sk-toggleable__content\"><pre>DecisionTreeClassifier()</pre></div></div></div></div></div>"
      ],
      "text/plain": [
       "DecisionTreeClassifier()"
      ]
     },
     "execution_count": 62,
     "metadata": {},
     "output_type": "execute_result"
    }
   ],
   "source": [
    "\n",
    "decisiontree2 = DecisionTreeClassifier(max_depth=None,\n",
    "                       splitter=\"best\",\n",
    "                        max_features=None,\n",
    "                         random_state=None,\n",
    "                          max_leaf_nodes=None,\n",
    "                           class_weight=None)\n",
    "decisiontree2.fit(X_train, y_train)"
   ]
  },
  {
   "cell_type": "code",
   "execution_count": 63,
   "metadata": {},
   "outputs": [
    {
     "name": "stdout",
     "output_type": "stream",
     "text": [
      "The overall training score is: 0.886 for Decision Tree Classifier with max_depth equals 5\n",
      "The overall testing score is: 0.884 for Decision Tree Classifier with max_depth equals 5\n",
      "the cross validation scores are: [0.88170653 0.88854003 0.8847539  0.88262998 0.88520502]\n",
      "the average score for cross validation is: 0.885\n"
     ]
    }
   ],
   "source": [
    "train_score_dt = decisiontree.score(X_train,y_train)\n",
    "test_score_dt = decisiontree.score(X_test,y_test)\n",
    "print(f\"The overall training score is: {round(train_score_dt,3)} for Decision Tree Classifier with max_depth equals 5\")\n",
    "print(f\"The overall testing score is: {round(test_score_dt, 3)} for Decision Tree Classifier with max_depth equals 5\")\n",
    "# cross validation\n",
    "cv_scores_df = cross_val_score(decisiontree, X_train, y_train, cv=5)\n",
    "print(f\"the cross validation scores are: {cv_scores_df}\")\n",
    "cv_average_df = cv_scores_df.mean()\n",
    "print(f\"the average score for cross validation is: {round(cv_average_df,3)}\")"
   ]
  },
  {
   "attachments": {},
   "cell_type": "markdown",
   "metadata": {},
   "source": [
    "# Audit the model\n",
    "We seek to answer the following questions using the Logistic Regression `model` we fitted earlier. We will only focus on testing data."
   ]
  },
  {
   "attachments": {},
   "cell_type": "markdown",
   "metadata": {},
   "source": [
    "### Overall Measures\n",
    "* What is the overall accuracy of your model?\n",
    "* What is the positive predictive value (PPV) of your model?\n",
    "* What are the overall false negative and false positive rates (FNR and FPR) for your model?\n",
    "### By-Group Measures\n",
    "* What is the accuracy of your model on each subgroup?\n",
    "* What is the PPV of your model on each subgroup?\n",
    "* What are the FNR and FPR on each subgroup?\n",
    "### Bias Measures\n",
    "* See Chouldechova (2017) for definitions of these terms. For calibration, you can think of the score as having only two values, 0 and 1.\n",
    "* Is your model approximately calibrated?\n",
    "* Does your model satisfy approximate error rate balance?\n",
    "* Does your model satisfy statistical parity?"
   ]
  },
  {
   "cell_type": "code",
   "execution_count": 102,
   "metadata": {},
   "outputs": [
    {
     "name": "stdout",
     "output_type": "stream",
     "text": [
      "(67680, 16)\n",
      "(67680,)\n",
      "(67680,)\n"
     ]
    }
   ],
   "source": [
    "for obj in [features, label, group]:\n",
    "  print(obj.shape)"
   ]
  },
  {
   "cell_type": "code",
   "execution_count": 103,
   "metadata": {},
   "outputs": [
    {
     "name": "stdout",
     "output_type": "stream",
     "text": [
      "0.8331855791962175\n"
     ]
    }
   ],
   "source": [
    "print(model.score(X_test,y_test))"
   ]
  },
  {
   "attachments": {},
   "cell_type": "markdown",
   "metadata": {},
   "source": [
    "Hence, the score for logistic regression is $8.33$, which is not bad!"
   ]
  },
  {
   "cell_type": "code",
   "execution_count": 109,
   "metadata": {},
   "outputs": [
    {
     "name": "stdout",
     "output_type": "stream",
     "text": [
      "confusion matrix is:\n",
      "[[6465  812]\n",
      " [1446 4813]]\n"
     ]
    }
   ],
   "source": [
    "my_matr = confusion_matrix(y_test, model.predict(X_test))\n",
    "print(f\"confusion matrix is:\\n{my_matr}\")"
   ]
  },
  {
   "attachments": {},
   "cell_type": "markdown",
   "metadata": {},
   "source": [
    "The positive predictive value (PPV) is obtained by using this formula: $$PPV = \\frac{TP}{TP+FP},$$ where $TP$ denotes True Positive, and $FP$ denotes True Negative. Hence, we need the value from lower-right corner (TP) of the confusion matrix divided by the value from lower right corner (TP) plus upper-right corner (FP). "
   ]
  },
  {
   "cell_type": "code",
   "execution_count": 107,
   "metadata": {},
   "outputs": [
    {
     "name": "stdout",
     "output_type": "stream",
     "text": [
      "The positive predictive value for logistic regression is 0.856\n"
     ]
    }
   ],
   "source": [
    "print(f\"The positive predictive value for logistic regression is {round(4813/(4813+812), 3)}\")"
   ]
  },
  {
   "attachments": {},
   "cell_type": "markdown",
   "metadata": {},
   "source": [
    "Recall that:\n",
    "* upper-left corner is `TN`, which stands for `True negative`\n",
    "* lower-left corner is `FN`, `False negative` \n",
    "* upper-right corner is `FP`, which stands for `False positive`\n",
    "* lower-right corner is `TP`, `True positive` \n",
    "\n",
    "$$\n",
    "\\begin{bmatrix}\n",
    "TN & FP\\\\\n",
    "FN & TP\\\\\n",
    "\\end{bmatrix}\n",
    "$$\n",
    "\n",
    "We also care about the `FPR`, which stands for the false positive rate, which is top-right corner of the confusion matrix (after we normalize).  `FNR` is false negative rate."
   ]
  },
  {
   "cell_type": "code",
   "execution_count": 111,
   "metadata": {},
   "outputs": [
    {
     "name": "stdout",
     "output_type": "stream",
     "text": [
      "Normalized confusion matrix is:\n",
      "[[0.88841556 0.11158444]\n",
      " [0.23102732 0.76897268]]\n"
     ]
    }
   ],
   "source": [
    "my_matr = confusion_matrix(y_test, model.predict(X_test), normalize=\"true\")\n",
    "print(f\"Normalized confusion matrix is:\\n{my_matr}\")"
   ]
  },
  {
   "attachments": {},
   "cell_type": "markdown",
   "metadata": {},
   "source": [
    "FPR is $0.111$, FNR is $0.231$. We see that FNR is twice the amount of FPR, which means this model is twice as likely to produce False negative as it is to produce false positive. In plain english, this model is twice as likely to predict someone not have a job while that person actually have a job, than the other way round.\n",
    "### Plot the confusion matrix in colors"
   ]
  },
  {
   "cell_type": "code",
   "execution_count": 113,
   "metadata": {},
   "outputs": [
    {
     "data": {
      "image/png": "[encoded data removed]",
      "text/plain": [
       "<Figure size 300x300 with 1 Axes>"
      ]
     },
     "metadata": {},
     "output_type": "display_data"
    }
   ],
   "source": [
    "my_matr = confusion_matrix(y_test, model.predict(X_test))\n",
    "fig, ax = plt.subplots(figsize=(3,3))\n",
    "ax.imshow(my_matr)\n",
    "ax.xaxis.set(ticks=(0,1), ticklabels=('Predicted False', 'Predicted True'))\n",
    "ax.yaxis.set(ticks=(0,1), ticklabels=('Actually False', 'Actually True'))\n",
    "ax.set_ylim(1.5, -0.5)\n",
    "\n",
    "for i in range(2):\n",
    "    for j in range(2):\n",
    "        ax.text(j,i, my_matr[i,j], ha='center', va='center', color='black')"
   ]
  },
  {
   "cell_type": "code",
   "execution_count": 114,
   "metadata": {},
   "outputs": [
    {
     "data": {
      "image/png": "[encoded data removed]",
      "text/plain": [
       "<Figure size 300x300 with 1 Axes>"
      ]
     },
     "metadata": {},
     "output_type": "display_data"
    }
   ],
   "source": [
    "\n",
    "my_matr = confusion_matrix(y_test, model.predict(X_test), normalize=\"true\")\n",
    "fig, ax = plt.subplots(figsize=(3,3))\n",
    "ax.imshow(my_matr)\n",
    "ax.xaxis.set(ticks=(0,1), ticklabels=('Predicted False', 'Predicted True'))\n",
    "ax.yaxis.set(ticks=(0,1), ticklabels=('Actually False', 'Actually True'))\n",
    "ax.set_ylim(1.5, -0.5)\n",
    "\n",
    "for i in range(2):\n",
    "    for j in range(2):\n",
    "        ax.text(j,i, my_matr[i,j].round(4), ha='center', va='center', color='black')"
   ]
  },
  {
   "attachments": {},
   "cell_type": "markdown",
   "metadata": {},
   "source": [
    "### By-group measures"
   ]
  },
  {
   "cell_type": "code",
   "execution_count": 127,
   "metadata": {},
   "outputs": [
    {
     "data": {
      "text/html": [
       "<div>\n",
       "<style scoped>\n",
       "    .dataframe tbody tr th:only-of-type {\n",
       "        vertical-align: middle;\n",
       "    }\n",
       "\n",
       "    .dataframe tbody tr th {\n",
       "        vertical-align: top;\n",
       "    }\n",
       "\n",
       "    .dataframe thead th {\n",
       "        text-align: right;\n",
       "    }\n",
       "</style>\n",
       "<table border=\"1\" class=\"dataframe\">\n",
       "  <thead>\n",
       "    <tr style=\"text-align: right;\">\n",
       "      <th></th>\n",
       "      <th>PINCP</th>\n",
       "      <th>AGEP</th>\n",
       "      <th>SCHL</th>\n",
       "      <th>MAR</th>\n",
       "      <th>RELP</th>\n",
       "      <th>DIS</th>\n",
       "      <th>ESP</th>\n",
       "      <th>CIT</th>\n",
       "      <th>MIG</th>\n",
       "      <th>MIL</th>\n",
       "      <th>ANC</th>\n",
       "      <th>NATIVITY</th>\n",
       "      <th>DEAR</th>\n",
       "      <th>DEYE</th>\n",
       "      <th>DREM</th>\n",
       "      <th>SEX</th>\n",
       "      <th>group</th>\n",
       "      <th>label</th>\n",
       "    </tr>\n",
       "  </thead>\n",
       "  <tbody>\n",
       "    <tr>\n",
       "      <th>0</th>\n",
       "      <td>12000.0</td>\n",
       "      <td>59.0</td>\n",
       "      <td>17.0</td>\n",
       "      <td>3.0</td>\n",
       "      <td>10.0</td>\n",
       "      <td>2.0</td>\n",
       "      <td>0.0</td>\n",
       "      <td>1.0</td>\n",
       "      <td>1.0</td>\n",
       "      <td>4.0</td>\n",
       "      <td>3.0</td>\n",
       "      <td>1.0</td>\n",
       "      <td>2.0</td>\n",
       "      <td>2.0</td>\n",
       "      <td>2.0</td>\n",
       "      <td>2.0</td>\n",
       "      <td>1</td>\n",
       "      <td>False</td>\n",
       "    </tr>\n",
       "    <tr>\n",
       "      <th>1</th>\n",
       "      <td>369000.0</td>\n",
       "      <td>57.0</td>\n",
       "      <td>16.0</td>\n",
       "      <td>1.0</td>\n",
       "      <td>0.0</td>\n",
       "      <td>2.0</td>\n",
       "      <td>0.0</td>\n",
       "      <td>1.0</td>\n",
       "      <td>1.0</td>\n",
       "      <td>4.0</td>\n",
       "      <td>1.0</td>\n",
       "      <td>1.0</td>\n",
       "      <td>2.0</td>\n",
       "      <td>2.0</td>\n",
       "      <td>2.0</td>\n",
       "      <td>1.0</td>\n",
       "      <td>1</td>\n",
       "      <td>True</td>\n",
       "    </tr>\n",
       "    <tr>\n",
       "      <th>2</th>\n",
       "      <td>34000.0</td>\n",
       "      <td>27.0</td>\n",
       "      <td>19.0</td>\n",
       "      <td>1.0</td>\n",
       "      <td>0.0</td>\n",
       "      <td>2.0</td>\n",
       "      <td>0.0</td>\n",
       "      <td>1.0</td>\n",
       "      <td>1.0</td>\n",
       "      <td>4.0</td>\n",
       "      <td>1.0</td>\n",
       "      <td>1.0</td>\n",
       "      <td>2.0</td>\n",
       "      <td>2.0</td>\n",
       "      <td>2.0</td>\n",
       "      <td>2.0</td>\n",
       "      <td>1</td>\n",
       "      <td>True</td>\n",
       "    </tr>\n",
       "  </tbody>\n",
       "</table>\n",
       "</div>"
      ],
      "text/plain": [
       "      PINCP  AGEP  SCHL  MAR  RELP  DIS  ESP  CIT  MIG  MIL  ANC  NATIVITY   \n",
       "0   12000.0  59.0  17.0  3.0  10.0  2.0  0.0  1.0  1.0  4.0  3.0       1.0  \\\n",
       "1  369000.0  57.0  16.0  1.0   0.0  2.0  0.0  1.0  1.0  4.0  1.0       1.0   \n",
       "2   34000.0  27.0  19.0  1.0   0.0  2.0  0.0  1.0  1.0  4.0  1.0       1.0   \n",
       "\n",
       "   DEAR  DEYE  DREM  SEX  group  label  \n",
       "0   2.0   2.0   2.0  2.0      1  False  \n",
       "1   2.0   2.0   2.0  1.0      1   True  \n",
       "2   2.0   2.0   2.0  2.0      1   True  "
      ]
     },
     "execution_count": 127,
     "metadata": {},
     "output_type": "execute_result"
    }
   ],
   "source": [
    "df_test = pd.DataFrame(X_test, columns = features_to_use)\n",
    "df_test[\"group\"] = group_test\n",
    "df_test[\"label\"] = y_test\n",
    "# df.loc[df['group'] == 2]\n",
    "df_test.head(3)"
   ]
  },
  {
   "cell_type": "code",
   "execution_count": 120,
   "metadata": {},
   "outputs": [
    {
     "name": "stdout",
     "output_type": "stream",
     "text": [
      " The accuracy for white individuals is 0.8338424983027835 \n",
      "  The accuracy for black individuals is 0.8265086206896551\n"
     ]
    }
   ],
   "source": [
    "y_hat=model.predict(X_test)\n",
    "print(f\" The accuracy for white individuals is {(y_hat == y_test)[group_test == 1].mean()}\", \"\\n\", \n",
    "    f\" The accuracy for black individuals is {(y_hat == y_test)[group_test == 2].mean()}\")"
   ]
  },
  {
   "cell_type": "code",
   "execution_count": 141,
   "metadata": {},
   "outputs": [
    {
     "name": "stdout",
     "output_type": "stream",
     "text": [
      "confusion matrix when we restrict to black individual is:\n",
      "[[513  48]\n",
      " [113 254]]\n",
      "confusion matrix when we restrict to white individual is:\n",
      "[[5519  719]\n",
      " [1239 4307]]\n",
      "normalized confusion matrix when we restrict to black individual is:\n",
      "[[0.9144385  0.0855615 ]\n",
      " [0.30790191 0.69209809]]\n",
      "normalized confusion matrix when we restrict to white individual is:\n",
      "[[0.8847387  0.1152613 ]\n",
      " [0.22340426 0.77659574]]\n"
     ]
    }
   ],
   "source": [
    "black_indicator = df_test[\"group\"]==2\n",
    "white_indicator = df_test[\"group\"]==1\n",
    "y_test_black = df_test[\"label\"][black_indicator]\n",
    "X_test_black = df_test.drop([\"group\",\"label\"], axis=1)[black_indicator]\n",
    "y_test_white = df_test[\"label\"][white_indicator]\n",
    "X_test_white = df_test.drop([\"group\",\"label\"], axis=1)[white_indicator]\n",
    "\n",
    "with warnings.catch_warnings():\n",
    "    warnings.simplefilter(\"always\")\n",
    "    warnings.filterwarnings(\"ignore\")\n",
    "    y_hat_black = model.predict(X_test_black)\n",
    "    my_matr = confusion_matrix(y_test_black, y_hat_black)\n",
    "    print(f\"confusion matrix when we restrict to black individual is:\\n{my_matr}\")\n",
    "\n",
    "    y_hat_white = model.predict(X_test_white)\n",
    "    my_matr = confusion_matrix(y_test_white, y_hat_white)\n",
    "    print(f\"confusion matrix when we restrict to white individual is:\\n{my_matr}\")\n",
    "\n",
    "    y_hat_black = model.predict(X_test_black)\n",
    "    my_matr = confusion_matrix(y_test_black, y_hat_black, normalize=\"true\")\n",
    "    print(f\"normalized confusion matrix when we restrict to black individual is:\\n{my_matr}\")\n",
    "\n",
    "    y_hat_white = model.predict(X_test_white)\n",
    "    my_matr = confusion_matrix(y_test_white, y_hat_white, normalize=\"true\")\n",
    "    print(f\"normalized confusion matrix when we restrict to white individual is:\\n{my_matr}\")"
   ]
  },
  {
   "attachments": {},
   "cell_type": "markdown",
   "metadata": {},
   "source": [
    "Recall that:\n",
    "$$\n",
    "\\begin{bmatrix}\n",
    "TN & FP\\\\\n",
    "FN & TP\\\\\n",
    "\\end{bmatrix}\n",
    "$$\n",
    "\n",
    "We also care about the `FPR`, which stands for the false positive rate, which is top-right corner of the confusion matrix (after we normalize).  `FNR` is false negative rate. We see that the FPR when we restrict to black individual is $0.0855$, and the FNR is $0.308$. We see that the model is very unlikely to predict a black individual have a job when they are not actually employed since FPR is so low. On the other hand, the FNR is quite high, the model is very likely to predict a black individual is unemployed, when they are actually employed. \n",
    "\n",
    "By contrast, we see that FPR when we restrict to white individual is $0.115$, and the FNR is $0.223$. Compared to black individuals, the model has much more balanced FNR and FPR for white individuals."
   ]
  },
  {
   "cell_type": "code",
   "execution_count": 142,
   "metadata": {},
   "outputs": [],
   "source": [
    "X_test_pd = pd.DataFrame(X_test, columns=features_to_use)"
   ]
  },
  {
   "attachments": {},
   "cell_type": "markdown",
   "metadata": {},
   "source": [
    "We have caliberated Logistic Regression by adding polynomial features. Just at it stands alone, the Logistic Regression we fitted has a high score, but it does not have error rate balance when we restrict to using only data from black individuals. It seems that the model is biased towards predicting black individuals as unemployed. It satisfies the statistical parity to some extent."
   ]
  },
  {
   "attachments": {},
   "cell_type": "markdown",
   "metadata": {},
   "source": [
    "### Concluding Discussion\n",
    "It seems that this Logistic Regression model is biased towards predicting black individuals as unemployed, "
   ]
  }
 ],
 "metadata": {
  "kernelspec": {
   "display_name": "Python 3.11.0 64-bit",
   "language": "python",
   "name": "python3"
  },
  "language_info": {
   "codemirror_mode": {
    "name": "ipython",
    "version": 3
   },
   "file_extension": ".py",
   "mimetype": "text/x-python",
   "name": "python",
   "nbconvert_exporter": "python",
   "pygments_lexer": "ipython3",
   "version": "3.9.16"
  },
  "vscode": {
   "interpreter": {
    "hash": "aee8b7b246df8f9039afb4144a1f6fd8d2ca17a180786b69acc140d282b71a49"
   }
  }
 },
 "nbformat": 4,
 "nbformat_minor": 4
}
