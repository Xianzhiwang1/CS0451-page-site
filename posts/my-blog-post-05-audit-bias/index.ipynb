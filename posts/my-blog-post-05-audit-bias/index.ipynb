{
 "cells": [
  {
   "cell_type": "raw",
   "metadata": {},
   "source": [
    "---\n",
    "title: My Blog post on Auditing Allocative Bias \n",
    "author: Xianzhi Wang\n",
    "date: '2023-03-24'\n",
    "image: \"image.jpg\"\n",
    "description: \"My Blog post on Auditing Allocative Bias\"\n",
    "format: html\n",
    "---"
   ]
  },
  {
   "cell_type": "markdown",
   "metadata": {},
   "source": [
    "\n",
    "### Source \n",
    "[Here](https://github.com/Xianzhiwang1/CS0451-page-site/tree/main/posts/) is a link to the source code for this blog post.\n",
    "\n",
    "### Reference\n",
    "[Here](https://middlebury-csci-0451.github.io/CSCI-0451/assignments/blog-posts/blog-post-bias-allocative.html#what-you-should-do) is a link to the main guide and reference when we write this blog post.\n",
    "\n",
    "Another reference is this [paper](https://arxiv.org/pdf/2108.04884.pdf) that documents which variable means what in the PUMS data set we are going to use.  \n",
    "\n",
    "### Introduction.\n",
    "\n",
    "### Implementation "
   ]
  },
  {
   "cell_type": "code",
   "execution_count": 41,
   "metadata": {},
   "outputs": [
    {
     "name": "stdout",
     "output_type": "stream",
     "text": [
      "The autoreload extension is already loaded. To reload it, use:\n",
      "  %reload_ext autoreload\n"
     ]
    }
   ],
   "source": [
    "%load_ext autoreload\n",
    "%autoreload 2"
   ]
  },
  {
   "cell_type": "markdown",
   "metadata": {},
   "source": [
    "First, let's import some libraries that we need."
   ]
  },
  {
   "cell_type": "code",
   "execution_count": 42,
   "metadata": {},
   "outputs": [],
   "source": [
    "import numpy as np\n",
    "import seaborn as sns\n",
    "from matplotlib import pyplot as plt\n",
    "from sklearn.datasets import make_blobs\n",
    "import pandas as pd"
   ]
  },
  {
   "cell_type": "code",
   "execution_count": 43,
   "metadata": {},
   "outputs": [],
   "source": [
    "from sklearn.linear_model import LogisticRegression\n",
    "from sklearn.pipeline import make_pipeline\n",
    "from sklearn.preprocessing import StandardScaler\n",
    "from sklearn.metrics import confusion_matrix\n",
    "from sklearn.model_selection import train_test_split"
   ]
  },
  {
   "cell_type": "markdown",
   "metadata": {},
   "source": [
    "In the following code cell, we will generate a linearly separable dataset of binary-labeled 2D points. The `make_blobs` function essentially takes $n$ samples, a number of features, and classes, and spits out a dataset of points with a data set with the given size, and label the data points using the classes. Visually, we see two clusters of points of two different color. In this special case where I set the seed, those two clusters seems linearly separable, which just means we could draw a straight line that completely seprates them. If we go to higher dimensions, then we need precise mathematical definitions, but we don't need to worry about that right now."
   ]
  },
  {
   "cell_type": "markdown",
   "metadata": {},
   "source": [
    "# Getting the data using `folktables`"
   ]
  },
  {
   "cell_type": "code",
   "execution_count": 44,
   "metadata": {},
   "outputs": [],
   "source": [
    "from folktables import ACSDataSource, ACSEmployment, BasicProblem, adult_filter\n",
    "\n",
    "STATE = \"IN\"\n",
    "\n",
    "data_source = ACSDataSource(survey_year='2018', \n",
    "                            horizon='1-Year', \n",
    "                            survey='person')\n",
    "\n",
    "acs_data = data_source.get_data(states=[STATE], download=True)"
   ]
  },
  {
   "cell_type": "code",
   "execution_count": 45,
   "metadata": {},
   "outputs": [
    {
     "data": {
      "text/html": [
       "<div>\n",
       "<style scoped>\n",
       "    .dataframe tbody tr th:only-of-type {\n",
       "        vertical-align: middle;\n",
       "    }\n",
       "\n",
       "    .dataframe tbody tr th {\n",
       "        vertical-align: top;\n",
       "    }\n",
       "\n",
       "    .dataframe thead th {\n",
       "        text-align: right;\n",
       "    }\n",
       "</style>\n",
       "<table border=\"1\" class=\"dataframe\">\n",
       "  <thead>\n",
       "    <tr style=\"text-align: right;\">\n",
       "      <th></th>\n",
       "      <th>RT</th>\n",
       "      <th>SERIALNO</th>\n",
       "      <th>DIVISION</th>\n",
       "      <th>SPORDER</th>\n",
       "      <th>PUMA</th>\n",
       "      <th>REGION</th>\n",
       "      <th>ST</th>\n",
       "      <th>ADJINC</th>\n",
       "      <th>PWGTP</th>\n",
       "      <th>AGEP</th>\n",
       "      <th>...</th>\n",
       "      <th>PWGTP71</th>\n",
       "      <th>PWGTP72</th>\n",
       "      <th>PWGTP73</th>\n",
       "      <th>PWGTP74</th>\n",
       "      <th>PWGTP75</th>\n",
       "      <th>PWGTP76</th>\n",
       "      <th>PWGTP77</th>\n",
       "      <th>PWGTP78</th>\n",
       "      <th>PWGTP79</th>\n",
       "      <th>PWGTP80</th>\n",
       "    </tr>\n",
       "  </thead>\n",
       "  <tbody>\n",
       "    <tr>\n",
       "      <th>0</th>\n",
       "      <td>P</td>\n",
       "      <td>2018GQ0000042</td>\n",
       "      <td>3</td>\n",
       "      <td>1</td>\n",
       "      <td>2000</td>\n",
       "      <td>2</td>\n",
       "      <td>18</td>\n",
       "      <td>1013097</td>\n",
       "      <td>46</td>\n",
       "      <td>20</td>\n",
       "      <td>...</td>\n",
       "      <td>7</td>\n",
       "      <td>6</td>\n",
       "      <td>82</td>\n",
       "      <td>44</td>\n",
       "      <td>6</td>\n",
       "      <td>76</td>\n",
       "      <td>83</td>\n",
       "      <td>44</td>\n",
       "      <td>45</td>\n",
       "      <td>44</td>\n",
       "    </tr>\n",
       "    <tr>\n",
       "      <th>1</th>\n",
       "      <td>P</td>\n",
       "      <td>2018GQ0000053</td>\n",
       "      <td>3</td>\n",
       "      <td>1</td>\n",
       "      <td>2306</td>\n",
       "      <td>2</td>\n",
       "      <td>18</td>\n",
       "      <td>1013097</td>\n",
       "      <td>19</td>\n",
       "      <td>48</td>\n",
       "      <td>...</td>\n",
       "      <td>16</td>\n",
       "      <td>19</td>\n",
       "      <td>37</td>\n",
       "      <td>23</td>\n",
       "      <td>2</td>\n",
       "      <td>19</td>\n",
       "      <td>2</td>\n",
       "      <td>2</td>\n",
       "      <td>40</td>\n",
       "      <td>18</td>\n",
       "    </tr>\n",
       "    <tr>\n",
       "      <th>2</th>\n",
       "      <td>P</td>\n",
       "      <td>2018GQ0000074</td>\n",
       "      <td>3</td>\n",
       "      <td>1</td>\n",
       "      <td>2000</td>\n",
       "      <td>2</td>\n",
       "      <td>18</td>\n",
       "      <td>1013097</td>\n",
       "      <td>88</td>\n",
       "      <td>20</td>\n",
       "      <td>...</td>\n",
       "      <td>166</td>\n",
       "      <td>158</td>\n",
       "      <td>160</td>\n",
       "      <td>90</td>\n",
       "      <td>87</td>\n",
       "      <td>84</td>\n",
       "      <td>88</td>\n",
       "      <td>90</td>\n",
       "      <td>13</td>\n",
       "      <td>166</td>\n",
       "    </tr>\n",
       "    <tr>\n",
       "      <th>3</th>\n",
       "      <td>P</td>\n",
       "      <td>2018GQ0000118</td>\n",
       "      <td>3</td>\n",
       "      <td>1</td>\n",
       "      <td>401</td>\n",
       "      <td>2</td>\n",
       "      <td>18</td>\n",
       "      <td>1013097</td>\n",
       "      <td>72</td>\n",
       "      <td>20</td>\n",
       "      <td>...</td>\n",
       "      <td>11</td>\n",
       "      <td>10</td>\n",
       "      <td>11</td>\n",
       "      <td>11</td>\n",
       "      <td>71</td>\n",
       "      <td>11</td>\n",
       "      <td>70</td>\n",
       "      <td>11</td>\n",
       "      <td>74</td>\n",
       "      <td>135</td>\n",
       "    </tr>\n",
       "    <tr>\n",
       "      <th>4</th>\n",
       "      <td>P</td>\n",
       "      <td>2018GQ0000319</td>\n",
       "      <td>3</td>\n",
       "      <td>1</td>\n",
       "      <td>200</td>\n",
       "      <td>2</td>\n",
       "      <td>18</td>\n",
       "      <td>1013097</td>\n",
       "      <td>97</td>\n",
       "      <td>22</td>\n",
       "      <td>...</td>\n",
       "      <td>15</td>\n",
       "      <td>170</td>\n",
       "      <td>93</td>\n",
       "      <td>181</td>\n",
       "      <td>175</td>\n",
       "      <td>92</td>\n",
       "      <td>174</td>\n",
       "      <td>16</td>\n",
       "      <td>96</td>\n",
       "      <td>95</td>\n",
       "    </tr>\n",
       "  </tbody>\n",
       "</table>\n",
       "<p>5 rows × 286 columns</p>\n",
       "</div>"
      ],
      "text/plain": [
       "  RT       SERIALNO  DIVISION  SPORDER  PUMA  REGION  ST   ADJINC  PWGTP   \n",
       "0  P  2018GQ0000042         3        1  2000       2  18  1013097     46  \\\n",
       "1  P  2018GQ0000053         3        1  2306       2  18  1013097     19   \n",
       "2  P  2018GQ0000074         3        1  2000       2  18  1013097     88   \n",
       "3  P  2018GQ0000118         3        1   401       2  18  1013097     72   \n",
       "4  P  2018GQ0000319         3        1   200       2  18  1013097     97   \n",
       "\n",
       "   AGEP  ...  PWGTP71  PWGTP72  PWGTP73  PWGTP74  PWGTP75  PWGTP76  PWGTP77   \n",
       "0    20  ...        7        6       82       44        6       76       83  \\\n",
       "1    48  ...       16       19       37       23        2       19        2   \n",
       "2    20  ...      166      158      160       90       87       84       88   \n",
       "3    20  ...       11       10       11       11       71       11       70   \n",
       "4    22  ...       15      170       93      181      175       92      174   \n",
       "\n",
       "   PWGTP78  PWGTP79  PWGTP80  \n",
       "0       44       45       44  \n",
       "1        2       40       18  \n",
       "2       90       13      166  \n",
       "3       11       74      135  \n",
       "4       16       96       95  \n",
       "\n",
       "[5 rows x 286 columns]"
      ]
     },
     "execution_count": 45,
     "metadata": {},
     "output_type": "execute_result"
    }
   ],
   "source": [
    "acs_data.head()"
   ]
  },
  {
   "cell_type": "code",
   "execution_count": null,
   "metadata": {},
   "outputs": [],
   "source": []
  },
  {
   "cell_type": "markdown",
   "metadata": {},
   "source": [
    "# Data wrangling, applying Logistic Regression \n",
    "We recall the equation for a linear regression first:\n",
    "$$ y = \\beta_0 + \\beta_1 X_1 + \\beta_2 X_2 + \\cdots + \\beta_n X_n, $$\n",
    "where, $\\beta_i$'s are coefficients, $y$ is the depedent variable, and the $X_i$'s are regressors (independent variables). Now, we recall logistic function (or sigmoid function), which is \n",
    "$$ f(x) = \\frac{1}{1+e^{-x}}, $$\n",
    "and when we put those two piece together, we obtain the formula for logistic regression:\n",
    "$$ y = \\frac{1}{1+e^{\\beta_0 + \\beta_1 X_1 + \\beta_2 X_2 + \\cdots + \\beta_n X_n}}, $$ \n",
    "        \n",
    "\n",
    "\n",
    "\n"
   ]
  },
  {
   "cell_type": "markdown",
   "metadata": {},
   "source": [
    "Here are some of the variables that are important for our analysis:\n",
    "* `PINCP` is total personal income.\n",
    "* `ESR` is employment status coded as a dummy variable (`1` if employed, `0` if not) \n",
    "* `SEX` is binary sex, coded `1` for male, and `2` for female.\n",
    "* `RAC1P` is race (`1`for White Alone, `2` for Black/African American alone, `3` and above for other self-identified racial groups)\n",
    "* `DEAR`, `DEYE`, and `DERM` refers to disability status relating to ear, eye, etc.\n",
    "* `AGEP` is Age, represented as integers.\n",
    "* `SCHL` is educational attainment, coded as integers.\n",
    "* `MAR` is Marital status, coded using integers.\n",
    "* `RELP` is Relationship.\n",
    "* `COW` is class of worker, coded using integers.\n",
    "* `OCCP` is occupation.\n",
    "* `POBP` is place of birth.\n",
    "* `WKHP` is usual hours worked per week in the past 12 months.  "
   ]
  },
  {
   "cell_type": "markdown",
   "metadata": {},
   "source": [
    "\n",
    "<p>Let’s consider the following task: we are going to</p>\n",
    "\n",
    "<li>Train a machine learning algorithm to predict whether someone is currently employed, based on their other attributes <em>not</em> including race, and</li>\n",
    "<li>Perform a bias audit of our algorithm to determine whether it displays racial bias.</li>\n",
    "\n",
    "<p>First, let’s be more specific:</p>"
   ]
  },
  {
   "cell_type": "markdown",
   "metadata": {},
   "source": []
  },
  {
   "cell_type": "code",
   "execution_count": 46,
   "metadata": {},
   "outputs": [],
   "source": [
    "my_features=['PINCP', 'ESR', 'AGEP', 'SCHL', 'MAR', 'RELP', 'DIS', 'ESP', 'CIT', 'MIG', 'MIL', 'ANC', 'NATIVITY', 'DEAR', 'DEYE', 'DREM', 'SEX', 'RAC1P']\n",
    "# new_df = acs_data[my_features]\n",
    "# new_df['INCOME'] = np.where(new_df['PINCP'] >= 70000, 1, 0)"
   ]
  },
  {
   "cell_type": "code",
   "execution_count": 47,
   "metadata": {},
   "outputs": [],
   "source": [
    "# new_df.loc[new_df['PINCP'] >= 70000]\n",
    "# new_df.loc[new_df['ESR'] == 1]"
   ]
  },
  {
   "cell_type": "code",
   "execution_count": 48,
   "metadata": {},
   "outputs": [],
   "source": [
    "features_to_use = [f for f in my_features if f not in [\"ESR\", \"RAC1P\"]]"
   ]
  },
  {
   "cell_type": "code",
   "execution_count": 49,
   "metadata": {},
   "outputs": [
    {
     "name": "stdout",
     "output_type": "stream",
     "text": [
      "['PINCP', 'AGEP', 'SCHL', 'MAR', 'RELP', 'DIS', 'ESP', 'CIT', 'MIG', 'MIL', 'ANC', 'NATIVITY', 'DEAR', 'DEYE', 'DREM', 'SEX']\n"
     ]
    }
   ],
   "source": [
    "print(features_to_use)"
   ]
  },
  {
   "cell_type": "code",
   "execution_count": 50,
   "metadata": {},
   "outputs": [],
   "source": [
    "EmploymentProblem = BasicProblem(\n",
    "    features=features_to_use,\n",
    "    target='ESR',\n",
    "    target_transform=lambda x: x == 1,\n",
    "    group='RAC1P',\n",
    "    # group='SEX',\n",
    "    preprocess=lambda x: x,\n",
    "    postprocess=lambda x: np.nan_to_num(x, -1),\n",
    ")\n",
    "\n",
    "features, label, group = EmploymentProblem.df_to_numpy(acs_data)"
   ]
  },
  {
   "cell_type": "code",
   "execution_count": 51,
   "metadata": {},
   "outputs": [],
   "source": [
    "X_train, X_test, y_train, y_test, group_train, group_test = train_test_split(\n",
    "    features, label, group, test_size=0.2, random_state=0)"
   ]
  },
  {
   "cell_type": "markdown",
   "metadata": {},
   "source": [
    "# Working with `pd.DataFrame`, apply logistic regression in Python with scikit-learn."
   ]
  },
  {
   "cell_type": "code",
   "execution_count": 52,
   "metadata": {},
   "outputs": [],
   "source": [
    "\n",
    "df = pd.DataFrame(X_train, columns = features_to_use)\n",
    "df[\"group\"] = group_train\n",
    "df[\"label\"] = y_train"
   ]
  },
  {
   "cell_type": "code",
   "execution_count": 53,
   "metadata": {},
   "outputs": [
    {
     "data": {
      "text/html": [
       "<div>\n",
       "<style scoped>\n",
       "    .dataframe tbody tr th:only-of-type {\n",
       "        vertical-align: middle;\n",
       "    }\n",
       "\n",
       "    .dataframe tbody tr th {\n",
       "        vertical-align: top;\n",
       "    }\n",
       "\n",
       "    .dataframe thead th {\n",
       "        text-align: right;\n",
       "    }\n",
       "</style>\n",
       "<table border=\"1\" class=\"dataframe\">\n",
       "  <thead>\n",
       "    <tr style=\"text-align: right;\">\n",
       "      <th></th>\n",
       "      <th>PINCP</th>\n",
       "      <th>AGEP</th>\n",
       "      <th>SCHL</th>\n",
       "      <th>MAR</th>\n",
       "      <th>RELP</th>\n",
       "      <th>DIS</th>\n",
       "      <th>ESP</th>\n",
       "      <th>CIT</th>\n",
       "      <th>MIG</th>\n",
       "      <th>MIL</th>\n",
       "      <th>ANC</th>\n",
       "      <th>NATIVITY</th>\n",
       "      <th>DEAR</th>\n",
       "      <th>DEYE</th>\n",
       "      <th>DREM</th>\n",
       "      <th>SEX</th>\n",
       "      <th>group</th>\n",
       "      <th>label</th>\n",
       "    </tr>\n",
       "  </thead>\n",
       "  <tbody>\n",
       "    <tr>\n",
       "      <th>0</th>\n",
       "      <td>0.0</td>\n",
       "      <td>31.0</td>\n",
       "      <td>20.0</td>\n",
       "      <td>1.0</td>\n",
       "      <td>1.0</td>\n",
       "      <td>2.0</td>\n",
       "      <td>0.0</td>\n",
       "      <td>1.0</td>\n",
       "      <td>1.0</td>\n",
       "      <td>4.0</td>\n",
       "      <td>4.0</td>\n",
       "      <td>1.0</td>\n",
       "      <td>2.0</td>\n",
       "      <td>2.0</td>\n",
       "      <td>2.0</td>\n",
       "      <td>2.0</td>\n",
       "      <td>1</td>\n",
       "      <td>False</td>\n",
       "    </tr>\n",
       "    <tr>\n",
       "      <th>1</th>\n",
       "      <td>32000.0</td>\n",
       "      <td>50.0</td>\n",
       "      <td>18.0</td>\n",
       "      <td>5.0</td>\n",
       "      <td>0.0</td>\n",
       "      <td>2.0</td>\n",
       "      <td>0.0</td>\n",
       "      <td>1.0</td>\n",
       "      <td>1.0</td>\n",
       "      <td>4.0</td>\n",
       "      <td>4.0</td>\n",
       "      <td>1.0</td>\n",
       "      <td>2.0</td>\n",
       "      <td>2.0</td>\n",
       "      <td>2.0</td>\n",
       "      <td>2.0</td>\n",
       "      <td>1</td>\n",
       "      <td>True</td>\n",
       "    </tr>\n",
       "    <tr>\n",
       "      <th>2</th>\n",
       "      <td>0.0</td>\n",
       "      <td>2.0</td>\n",
       "      <td>0.0</td>\n",
       "      <td>5.0</td>\n",
       "      <td>2.0</td>\n",
       "      <td>2.0</td>\n",
       "      <td>5.0</td>\n",
       "      <td>1.0</td>\n",
       "      <td>1.0</td>\n",
       "      <td>0.0</td>\n",
       "      <td>4.0</td>\n",
       "      <td>1.0</td>\n",
       "      <td>2.0</td>\n",
       "      <td>2.0</td>\n",
       "      <td>0.0</td>\n",
       "      <td>1.0</td>\n",
       "      <td>1</td>\n",
       "      <td>False</td>\n",
       "    </tr>\n",
       "    <tr>\n",
       "      <th>3</th>\n",
       "      <td>0.0</td>\n",
       "      <td>14.0</td>\n",
       "      <td>9.0</td>\n",
       "      <td>5.0</td>\n",
       "      <td>2.0</td>\n",
       "      <td>2.0</td>\n",
       "      <td>7.0</td>\n",
       "      <td>1.0</td>\n",
       "      <td>3.0</td>\n",
       "      <td>0.0</td>\n",
       "      <td>2.0</td>\n",
       "      <td>1.0</td>\n",
       "      <td>2.0</td>\n",
       "      <td>2.0</td>\n",
       "      <td>2.0</td>\n",
       "      <td>2.0</td>\n",
       "      <td>1</td>\n",
       "      <td>False</td>\n",
       "    </tr>\n",
       "    <tr>\n",
       "      <th>4</th>\n",
       "      <td>38000.0</td>\n",
       "      <td>58.0</td>\n",
       "      <td>21.0</td>\n",
       "      <td>1.0</td>\n",
       "      <td>1.0</td>\n",
       "      <td>2.0</td>\n",
       "      <td>0.0</td>\n",
       "      <td>1.0</td>\n",
       "      <td>1.0</td>\n",
       "      <td>4.0</td>\n",
       "      <td>1.0</td>\n",
       "      <td>1.0</td>\n",
       "      <td>2.0</td>\n",
       "      <td>2.0</td>\n",
       "      <td>2.0</td>\n",
       "      <td>2.0</td>\n",
       "      <td>1</td>\n",
       "      <td>True</td>\n",
       "    </tr>\n",
       "  </tbody>\n",
       "</table>\n",
       "</div>"
      ],
      "text/plain": [
       "     PINCP  AGEP  SCHL  MAR  RELP  DIS  ESP  CIT  MIG  MIL  ANC  NATIVITY   \n",
       "0      0.0  31.0  20.0  1.0   1.0  2.0  0.0  1.0  1.0  4.0  4.0       1.0  \\\n",
       "1  32000.0  50.0  18.0  5.0   0.0  2.0  0.0  1.0  1.0  4.0  4.0       1.0   \n",
       "2      0.0   2.0   0.0  5.0   2.0  2.0  5.0  1.0  1.0  0.0  4.0       1.0   \n",
       "3      0.0  14.0   9.0  5.0   2.0  2.0  7.0  1.0  3.0  0.0  2.0       1.0   \n",
       "4  38000.0  58.0  21.0  1.0   1.0  2.0  0.0  1.0  1.0  4.0  1.0       1.0   \n",
       "\n",
       "   DEAR  DEYE  DREM  SEX  group  label  \n",
       "0   2.0   2.0   2.0  2.0      1  False  \n",
       "1   2.0   2.0   2.0  2.0      1   True  \n",
       "2   2.0   2.0   0.0  1.0      1  False  \n",
       "3   2.0   2.0   2.0  2.0      1  False  \n",
       "4   2.0   2.0   2.0  2.0      1   True  "
      ]
     },
     "execution_count": 53,
     "metadata": {},
     "output_type": "execute_result"
    }
   ],
   "source": [
    "# df.loc[df['group'] == 2]\n",
    "df.head()"
   ]
  },
  {
   "cell_type": "markdown",
   "metadata": {},
   "source": [
    "### Basic Discriptives"
   ]
  },
  {
   "cell_type": "markdown",
   "metadata": {},
   "source": [
    "Using this data frame, we first answer the following questions:\n",
    "\n",
    "* How many individuals are in the data?\n",
    "* Of these individuals, what proportion have target label equal to 1? In employment prediction, these would correspond to employed individuals.\n",
    "* Of these individuals, how many are in each of the groups?\n",
    "* In each group, what proportion of individuals have target label equal to 1?\n",
    "* Check for intersectional trends by studying the proportion of positive target labels broken out by your chosen group labels and an additional group label. For example, if you chose race (RAC1P) as your group, then you could also choose sex (SEX) and compute the proportion of positive labels by both race and sex. This might be a good opportunity to use a visualization such as a bar chart, e.g. via the seaborn package."
   ]
  },
  {
   "cell_type": "code",
   "execution_count": 54,
   "metadata": {},
   "outputs": [
    {
     "name": "stdout",
     "output_type": "stream",
     "text": [
      "The Number of Rows is: 54144\n",
      "The Number of Columns is: 18\n",
      "The Number of individual who are employed is: 24858\n",
      "The Percentage of individuals who are employed is: 0.4591090425531915\n",
      "The Number of person who identify as black is: 3626\n",
      "The Number of person who identify as white is: 47332\n",
      "The Number of person who identify as black and is currently employed: 1374\n",
      "The Number of person who identify as white and is currently employed: 22200\n",
      "The Number of person who identify as other racial groups is: 3186\n",
      "The Number of person who identify as other racial groups and is currently employed: 1284\n",
      "The Percentage of person who identify as black and is also employed is: 0.3789299503585218\n",
      "The Percentage of person who identify as white and is also employed is: 0.4690272965435646\n",
      "The Percentage of person who identify as other racial groups and is also employed is: 0.4030131826741996\n"
     ]
    }
   ],
   "source": [
    "print(f\"The Number of Rows is: {df.shape[0]}\")\n",
    "print(f\"The Number of Columns is: {df.shape[1]}\")\n",
    "print(f\"The Number of individual who are employed is: {df.loc[df['label'] == True].shape[0]}\")\n",
    "print(f\"The Percentage of individuals who are employed is: {24858/54144}\")\n",
    "###\n",
    "print(f\"The Number of person who identify as black is: {df.loc[df['group']==2].shape[0]}\")\n",
    "print(f\"The Number of person who identify as white is: {df.loc[df['group']==1].shape[0]}\")\n",
    "print(f\"The Number of person who identify as black and is currently employed: {df.loc[(df['group']==2) & (df['label']==True)].shape[0]}\")\n",
    "print(f\"The Number of person who identify as white and is currently employed: {df.loc[(df['group']==1) & (df['label']==True)].shape[0]}\")\n",
    "###\n",
    "print(f\"The Number of person who identify as other racial groups is: {df.loc[df['group']>= 3].shape[0]}\")\n",
    "print(f\"The Number of person who identify as other racial groups and is currently employed: {df.loc[(df['group']>= 3) & (df['label']==True)].shape[0]}\")\n",
    "###\n",
    "print(f\"The Percentage of person who identify as black and is also employed is: {1374/3626}\")\n",
    "print(f\"The Percentage of person who identify as white and is also employed is: {22200/47332}\")\n",
    "print(f\"The Percentage of person who identify as other racial groups and is also employed is: {1284/3186}\")"
   ]
  },
  {
   "cell_type": "code",
   "execution_count": 55,
   "metadata": {},
   "outputs": [
    {
     "name": "stdout",
     "output_type": "stream",
     "text": [
      "SEX\n",
      "1.0    26578\n",
      "2.0    27566\n",
      "dtype: int64\n",
      "***\n",
      "group\n",
      "1    47332\n",
      "2     3626\n",
      "3       83\n",
      "4        1\n",
      "5       29\n",
      "6      942\n",
      "7       17\n",
      "8      906\n",
      "9     1208\n",
      "dtype: int64\n",
      "***\n",
      "label\n",
      "False    29286\n",
      "True     24858\n",
      "dtype: int64\n",
      "***\n",
      "group  label\n",
      "1      False    25132\n",
      "       True     22200\n",
      "2      False     2252\n",
      "       True      1374\n",
      "3      False       50\n",
      "       True        33\n",
      "4      True         1\n",
      "5      False       17\n",
      "       True        12\n",
      "6      False      492\n",
      "       True       450\n",
      "7      False        6\n",
      "       True        11\n",
      "8      False      516\n",
      "       True       390\n",
      "9      False      821\n",
      "       True       387\n",
      "dtype: int64\n",
      "***\n",
      "the average employment rate is:  0.4591090425531915\n"
     ]
    }
   ],
   "source": [
    "print( df.groupby(\"SEX\").size() )\n",
    "print(\"***\")\n",
    "print( df.groupby(\"group\").size() )\n",
    "print(\"***\")\n",
    "print( df.groupby(\"label\").size() )\n",
    "print(\"***\")\n",
    "print( df.groupby(['group', 'label']).size())\n",
    "print(\"***\")\n",
    "print(\"the average employment rate is: \" , df[\"label\"].mean())\n"
   ]
  },
  {
   "cell_type": "markdown",
   "metadata": {},
   "source": [
    "\n",
    "The following code is much more efficient, it shows the employment rate for each group. The employment rate for white people in IN in 2018 is $47$ percent. The employment for black people in IN in 2018 is $37.9$ percent.\n"
   ]
  },
  {
   "cell_type": "code",
   "execution_count": 56,
   "metadata": {},
   "outputs": [
    {
     "name": "stdout",
     "output_type": "stream",
     "text": [
      "group\n",
      "1    0.469027\n",
      "2    0.378930\n",
      "3    0.397590\n",
      "4    1.000000\n",
      "5    0.413793\n",
      "6    0.477707\n",
      "7    0.647059\n",
      "8    0.430464\n",
      "9    0.320364\n",
      "Name: label, dtype: float64\n"
     ]
    }
   ],
   "source": [
    "print( df.groupby(\"group\")[\"label\"].mean() )"
   ]
  },
  {
   "cell_type": "markdown",
   "metadata": {},
   "source": [
    "More efficiently, we could use the following line of code and read off the numbers that for people identifying as white male, the employment rate is $50.7$ percent. For people identifying as white female, the employment rate is $43.2$ percent."
   ]
  },
  {
   "cell_type": "code",
   "execution_count": 57,
   "metadata": {},
   "outputs": [
    {
     "data": {
      "text/plain": [
       "group  SEX\n",
       "1      1.0    0.507493\n",
       "       2.0    0.431978\n",
       "2      1.0    0.357579\n",
       "       2.0    0.400000\n",
       "3      1.0    0.348837\n",
       "       2.0    0.450000\n",
       "4      2.0    1.000000\n",
       "5      1.0    0.352941\n",
       "       2.0    0.500000\n",
       "6      1.0    0.510067\n",
       "       2.0    0.448485\n",
       "7      1.0    0.666667\n",
       "       2.0    0.625000\n",
       "8      1.0    0.475877\n",
       "       2.0    0.384444\n",
       "9      1.0    0.312178\n",
       "       2.0    0.328000\n",
       "Name: label, dtype: float64"
      ]
     },
     "execution_count": 57,
     "metadata": {},
     "output_type": "execute_result"
    }
   ],
   "source": [
    "df.groupby([\"group\",\"SEX\"])[\"label\"].mean()"
   ]
  },
  {
   "cell_type": "markdown",
   "metadata": {},
   "source": [
    "The below graph shows the number of female in each racial group and male in each racial group."
   ]
  },
  {
   "cell_type": "code",
   "execution_count": 58,
   "metadata": {},
   "outputs": [
    {
     "data": {
      "text/plain": [
       "<AxesSubplot:xlabel='SEX', ylabel='n'>"
      ]
     },
     "execution_count": 58,
     "metadata": {},
     "output_type": "execute_result"
    },
    {
     "data": {
      "image/png": "[encoded data removed]",
      "text/plain": [
       "<Figure size 640x480 with 1 Axes>"
      ]
     },
     "metadata": {},
     "output_type": "display_data"
    }
   ],
   "source": [
    "counts = df.groupby([\"group\", \"SEX\"]).size().reset_index(name = \"n\")\n",
    "sns.barplot(data = counts, x = \"SEX\", y = \"n\", hue = \"group\")"
   ]
  },
  {
   "cell_type": "code",
   "execution_count": 59,
   "metadata": {},
   "outputs": [
    {
     "data": {
      "text/plain": [
       "<AxesSubplot:xlabel='SEX', ylabel='label'>"
      ]
     },
     "execution_count": 59,
     "metadata": {},
     "output_type": "execute_result"
    },
    {
     "data": {
      "image/png": "[encoded data removed]",
      "text/plain": [
       "<Figure size 640x480 with 1 Axes>"
      ]
     },
     "metadata": {},
     "output_type": "display_data"
    }
   ],
   "source": [
    "\n",
    "percentages = df.groupby([\"group\", \"SEX\"])[\"label\"].mean().reset_index()\n",
    "sns.barplot(data = percentages, x = \"SEX\", y = \"label\", hue = \"group\")"
   ]
  },
  {
   "cell_type": "markdown",
   "metadata": {},
   "source": [
    "The number of persons in the data set is $54144.$ The percentage of individuals who are employed is about $46$ percent."
   ]
  },
  {
   "cell_type": "code",
   "execution_count": 60,
   "metadata": {},
   "outputs": [
    {
     "data": {
      "text/html": [
       "<style>#sk-container-id-2 {color: black;background-color: white;}#sk-container-id-2 pre{padding: 0;}#sk-container-id-2 div.sk-toggleable {background-color: white;}#sk-container-id-2 label.sk-toggleable__label {cursor: pointer;display: block;width: 100%;margin-bottom: 0;padding: 0.3em;box-sizing: border-box;text-align: center;}#sk-container-id-2 label.sk-toggleable__label-arrow:before {content: \"▸\";float: left;margin-right: 0.25em;color: #696969;}#sk-container-id-2 label.sk-toggleable__label-arrow:hover:before {color: black;}#sk-container-id-2 div.sk-estimator:hover label.sk-toggleable__label-arrow:before {color: black;}#sk-container-id-2 div.sk-toggleable__content {max-height: 0;max-width: 0;overflow: hidden;text-align: left;background-color: #f0f8ff;}#sk-container-id-2 div.sk-toggleable__content pre {margin: 0.2em;color: black;border-radius: 0.25em;background-color: #f0f8ff;}#sk-container-id-2 input.sk-toggleable__control:checked~div.sk-toggleable__content {max-height: 200px;max-width: 100%;overflow: auto;}#sk-container-id-2 input.sk-toggleable__control:checked~label.sk-toggleable__label-arrow:before {content: \"▾\";}#sk-container-id-2 div.sk-estimator input.sk-toggleable__control:checked~label.sk-toggleable__label {background-color: #d4ebff;}#sk-container-id-2 div.sk-label input.sk-toggleable__control:checked~label.sk-toggleable__label {background-color: #d4ebff;}#sk-container-id-2 input.sk-hidden--visually {border: 0;clip: rect(1px 1px 1px 1px);clip: rect(1px, 1px, 1px, 1px);height: 1px;margin: -1px;overflow: hidden;padding: 0;position: absolute;width: 1px;}#sk-container-id-2 div.sk-estimator {font-family: monospace;background-color: #f0f8ff;border: 1px dotted black;border-radius: 0.25em;box-sizing: border-box;margin-bottom: 0.5em;}#sk-container-id-2 div.sk-estimator:hover {background-color: #d4ebff;}#sk-container-id-2 div.sk-parallel-item::after {content: \"\";width: 100%;border-bottom: 1px solid gray;flex-grow: 1;}#sk-container-id-2 div.sk-label:hover label.sk-toggleable__label {background-color: #d4ebff;}#sk-container-id-2 div.sk-serial::before {content: \"\";position: absolute;border-left: 1px solid gray;box-sizing: border-box;top: 0;bottom: 0;left: 50%;z-index: 0;}#sk-container-id-2 div.sk-serial {display: flex;flex-direction: column;align-items: center;background-color: white;padding-right: 0.2em;padding-left: 0.2em;position: relative;}#sk-container-id-2 div.sk-item {position: relative;z-index: 1;}#sk-container-id-2 div.sk-parallel {display: flex;align-items: stretch;justify-content: center;background-color: white;position: relative;}#sk-container-id-2 div.sk-item::before, #sk-container-id-2 div.sk-parallel-item::before {content: \"\";position: absolute;border-left: 1px solid gray;box-sizing: border-box;top: 0;bottom: 0;left: 50%;z-index: -1;}#sk-container-id-2 div.sk-parallel-item {display: flex;flex-direction: column;z-index: 1;position: relative;background-color: white;}#sk-container-id-2 div.sk-parallel-item:first-child::after {align-self: flex-end;width: 50%;}#sk-container-id-2 div.sk-parallel-item:last-child::after {align-self: flex-start;width: 50%;}#sk-container-id-2 div.sk-parallel-item:only-child::after {width: 0;}#sk-container-id-2 div.sk-dashed-wrapped {border: 1px dashed gray;margin: 0 0.4em 0.5em 0.4em;box-sizing: border-box;padding-bottom: 0.4em;background-color: white;}#sk-container-id-2 div.sk-label label {font-family: monospace;font-weight: bold;display: inline-block;line-height: 1.2em;}#sk-container-id-2 div.sk-label-container {text-align: center;}#sk-container-id-2 div.sk-container {/* jupyter's `normalize.less` sets `[hidden] { display: none; }` but bootstrap.min.css set `[hidden] { display: none !important; }` so we also need the `!important` here to be able to override the default hidden behavior on the sphinx rendered scikit-learn.org. See: https://github.com/scikit-learn/scikit-learn/issues/21755 */display: inline-block !important;position: relative;}#sk-container-id-2 div.sk-text-repr-fallback {display: none;}</style><div id=\"sk-container-id-2\" class=\"sk-top-container\"><div class=\"sk-text-repr-fallback\"><pre>LogisticRegression(random_state=0, solver=&#x27;liblinear&#x27;)</pre><b>In a Jupyter environment, please rerun this cell to show the HTML representation or trust the notebook. <br />On GitHub, the HTML representation is unable to render, please try loading this page with nbviewer.org.</b></div><div class=\"sk-container\" hidden><div class=\"sk-item\"><div class=\"sk-estimator sk-toggleable\"><input class=\"sk-toggleable__control sk-hidden--visually\" id=\"sk-estimator-id-2\" type=\"checkbox\" checked><label for=\"sk-estimator-id-2\" class=\"sk-toggleable__label sk-toggleable__label-arrow\">LogisticRegression</label><div class=\"sk-toggleable__content\"><pre>LogisticRegression(random_state=0, solver=&#x27;liblinear&#x27;)</pre></div></div></div></div></div>"
      ],
      "text/plain": [
       "LogisticRegression(random_state=0, solver='liblinear')"
      ]
     },
     "execution_count": 60,
     "metadata": {},
     "output_type": "execute_result"
    }
   ],
   "source": [
    "\n",
    "# model = make_pipeline(StandardScaler(), LogisticRegression())\n",
    "model = LogisticRegression(solver='liblinear', random_state=0)\n",
    "model.fit(X_train, y_train)"
   ]
  },
  {
   "cell_type": "code",
   "execution_count": 61,
   "metadata": {},
   "outputs": [],
   "source": [
    "y_hat = model.predict(X_test)"
   ]
  },
  {
   "cell_type": "code",
   "execution_count": 62,
   "metadata": {},
   "outputs": [
    {
     "name": "stdout",
     "output_type": "stream",
     "text": [
      " The overall accuracy in predicting whether someone is employed in 2018 in Indiana is: 0.8331855791962175 \n",
      "  The accuracy for white individuals is 0.8338424983027835 \n",
      "  The accuracy for black individuals is 0.8265086206896551\n"
     ]
    }
   ],
   "source": [
    "print(f\" The overall accuracy in predicting whether someone is employed in 2018 in Indiana is: {(y_hat == y_test).mean()}\", \"\\n\",\n",
    "    f\" The accuracy for white individuals is {(y_hat == y_test)[group_test == 1].mean()}\", \"\\n\", \n",
    "    f\" The accuracy for black individuals is {(y_hat == y_test)[group_test == 2].mean()}\")"
   ]
  },
  {
   "cell_type": "markdown",
   "metadata": {},
   "source": [
    "### Train my model"
   ]
  },
  {
   "cell_type": "code",
   "execution_count": 63,
   "metadata": {},
   "outputs": [],
   "source": [
    "regress = model.fit(X_train, y_train)"
   ]
  },
  {
   "cell_type": "code",
   "execution_count": 64,
   "metadata": {},
   "outputs": [
    {
     "data": {
      "text/plain": [
       "0.8331855791962175"
      ]
     },
     "execution_count": 64,
     "metadata": {},
     "output_type": "execute_result"
    }
   ],
   "source": [
    "regress.score(X_test, y_test)"
   ]
  },
  {
   "cell_type": "code",
   "execution_count": 65,
   "metadata": {},
   "outputs": [
    {
     "data": {
      "text/plain": [
       "0.8331855791962175"
      ]
     },
     "execution_count": 65,
     "metadata": {},
     "output_type": "execute_result"
    }
   ],
   "source": [
    "model.score(X_test, y_test)"
   ]
  },
  {
   "cell_type": "code",
   "execution_count": 66,
   "metadata": {},
   "outputs": [
    {
     "name": "stdout",
     "output_type": "stream",
     "text": [
      "              precision    recall  f1-score   support\n",
      "\n",
      "       False       0.82      0.89      0.85      7277\n",
      "        True       0.86      0.77      0.81      6259\n",
      "\n",
      "    accuracy                           0.83     13536\n",
      "   macro avg       0.84      0.83      0.83     13536\n",
      "weighted avg       0.83      0.83      0.83     13536\n",
      "\n"
     ]
    }
   ],
   "source": [
    "from sklearn.metrics import classification_report\n",
    "print(classification_report(y_test, y_hat))"
   ]
  },
  {
   "cell_type": "markdown",
   "metadata": {},
   "source": [
    "# Audit the model"
   ]
  },
  {
   "cell_type": "markdown",
   "metadata": {},
   "source": [
    "### Overall Measures\n",
    "* What is the overall accuracy of your model?\n",
    "* What is the positive predictive value (PPV) of your model?\n",
    "* What are the overall false negative and false positive rates (FNR and FPR) for your model?\n",
    "### By-Group Measures\n",
    "* What is the accuracy of your model on each subgroup?\n",
    "* What is the PPV of your model on each subgroup?\n",
    "* What are the FNR and FPR on each subgroup?\n",
    "### Bias Measures\n",
    "* See Chouldechova (2017) for definitions of these terms. For calibration, you can think of the score as having only two values, 0 and 1.\n",
    "* Is your model approximately calibrated?\n",
    "* Does your model satisfy approximate error rate balance?\n",
    "* Does your model satisfy statistical parity?"
   ]
  },
  {
   "cell_type": "code",
   "execution_count": 67,
   "metadata": {},
   "outputs": [
    {
     "name": "stdout",
     "output_type": "stream",
     "text": [
      "(67680, 16)\n",
      "(67680,)\n",
      "(67680,)\n",
      "[[1.70e+03 2.00e+01 1.90e+01 ... 2.00e+00 2.00e+00 2.00e+00]\n",
      " [9.80e+03 4.80e+01 1.30e+01 ... 2.00e+00 1.00e+00 2.00e+00]\n",
      " [3.50e+03 2.00e+01 1.90e+01 ... 2.00e+00 2.00e+00 1.00e+00]\n",
      " ...\n",
      " [2.11e+04 6.70e+01 1.60e+01 ... 1.00e+00 2.00e+00 1.00e+00]\n",
      " [8.40e+03 6.70e+01 1.90e+01 ... 2.00e+00 2.00e+00 2.00e+00]\n",
      " [5.50e+04 6.70e+01 2.10e+01 ... 2.00e+00 2.00e+00 1.00e+00]]\n",
      "[9 1 1 ... 1 1 1]\n",
      "[False False False ... False False  True]\n"
     ]
    }
   ],
   "source": [
    "\n",
    "for obj in [features, label, group]:\n",
    "  print(obj.shape)\n",
    "\n",
    "print(features)\n",
    "print(group)\n",
    "print(label)"
   ]
  },
  {
   "cell_type": "markdown",
   "metadata": {},
   "source": [
    "Recall that:\n",
    "* upper-left corner is `TN`, which stands for `True negative`\n",
    "* lower-left corner is `FN`, `False negative` \n",
    "* upper-right corner is `FP`, which stands for `False positive`\n",
    "* lower-right corner is `TP`, `True positive` \n",
    "\n",
    "\n",
    "We also care about the `FPR`, which stands for the false positive rate, which is top-right corner of the confusion matrix (after we normalize).  `FNR` is false negative rate."
   ]
  },
  {
   "cell_type": "code",
   "execution_count": 68,
   "metadata": {},
   "outputs": [
    {
     "data": {
      "image/png": "[encoded data removed]",
      "text/plain": [
       "<Figure size 400x400 with 1 Axes>"
      ]
     },
     "metadata": {},
     "output_type": "display_data"
    }
   ],
   "source": [
    "my_matr = confusion_matrix(y_test, model.predict(X_test))\n",
    "fig, ax = plt.subplots(figsize=(4,4))\n",
    "ax.imshow(my_matr)\n",
    "ax.xaxis.set(ticks=(0,1), ticklabels=('Predicted False', 'Predicted True'))\n",
    "ax.yaxis.set(ticks=(0,1), ticklabels=('Actually False', 'Actually True'))\n",
    "ax.set_ylim(1.5, -0.5)\n",
    "\n",
    "for i in range(2):\n",
    "    for j in range(2):\n",
    "        ax.text(j,i, my_matr[i,j], ha='center', va='center', color='black')"
   ]
  },
  {
   "cell_type": "code",
   "execution_count": 69,
   "metadata": {},
   "outputs": [
    {
     "data": {
      "image/png": "[encoded data removed]",
      "text/plain": [
       "<Figure size 400x400 with 1 Axes>"
      ]
     },
     "metadata": {},
     "output_type": "display_data"
    }
   ],
   "source": [
    "\n",
    "my_matr = confusion_matrix(y_test, model.predict(X_test), normalize=\"true\")\n",
    "fig, ax = plt.subplots(figsize=(4,4))\n",
    "ax.imshow(my_matr)\n",
    "ax.xaxis.set(ticks=(0,1), ticklabels=('Predicted False', 'Predicted True'))\n",
    "ax.yaxis.set(ticks=(0,1), ticklabels=('Actually False', 'Actually True'))\n",
    "ax.set_ylim(1.5, -0.5)\n",
    "\n",
    "for i in range(2):\n",
    "    for j in range(2):\n",
    "        ax.text(j,i, my_matr[i,j].round(4), ha='center', va='center', color='black')"
   ]
  },
  {
   "cell_type": "markdown",
   "metadata": {},
   "source": [
    "### Concluding Discussion"
   ]
  }
 ],
 "metadata": {
  "kernelspec": {
   "display_name": "Python 3.11.0 64-bit",
   "language": "python",
   "name": "python3"
  },
  "language_info": {
   "codemirror_mode": {
    "name": "ipython",
    "version": 3
   },
   "file_extension": ".py",
   "mimetype": "text/x-python",
   "name": "python",
   "nbconvert_exporter": "python",
   "pygments_lexer": "ipython3",
   "version": "3.9.16"
  },
  "vscode": {
   "interpreter": {
    "hash": "aee8b7b246df8f9039afb4144a1f6fd8d2ca17a180786b69acc140d282b71a49"
   }
  }
 },
 "nbformat": 4,
 "nbformat_minor": 4
}
