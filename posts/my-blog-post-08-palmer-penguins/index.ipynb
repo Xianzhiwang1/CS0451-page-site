{
 "cells": [
  {
   "cell_type": "raw",
   "metadata": {},
   "source": [
    "---\n",
    "title: Classifying Palmer Penguins  \n",
    "author: Xianzhi Wang\n",
    "date: '2023-04-22'\n",
    "image: \"image.jpg\"\n",
    "description: \"My blog post on Palmer Penguins classification\"\n",
    "format: html\n",
    "---"
   ]
  },
  {
   "attachments": {},
   "cell_type": "markdown",
   "metadata": {},
   "source": [
    "\n",
    "### Source code for this blog post \n",
    "[Here](https://github.com/Xianzhiwang1/CS0451-page-site/tree/main/posts/) is a link to the source code for this Penguin Classification blog post.\n",
    "\n",
    "### Reference for this blog post\n",
    "[Here](https://middlebury-csci-0451.github.io/CSCI-0451/assignments/blog-posts/blog-post-penguins.html) is a link to the main reference we are using when creating this blog post.\n",
    "\n",
    "# Introduction.\n",
    "In this blog post I am going to use standard libraries to classify Palmer Penguins using supervised learning. \n",
    "\n"
   ]
  },
  {
   "cell_type": "markdown",
   "metadata": {},
   "source": [
    "Recall the empirical risk minimization problem, which is finding the weight vector `w` that minimize the loss function $L(w)$.\n",
    "#### $$ \\hat{w} = \\arg \\min_{w} L(w), $$ \n",
    "where the loss function $L(w)$ is of the following form:\n",
    "#### $$ L(w) = \\frac{1}{n} \\sum_{i=1}{n} \\ell( \\langle w, x_i \\rangle, y_i ), $$\n",
    "and $\\ell (\\hat{y}, y ) $ is the logistic loss from the previous blog post. However, previously, we only studied *linear decision boundaries*, and now we want to study nonlinear patterns."
   ]
  },
  {
   "cell_type": "code",
   "execution_count": 1,
   "metadata": {},
   "outputs": [],
   "source": [
    "\n",
    "%load_ext autoreload\n",
    "%autoreload 2"
   ]
  },
  {
   "cell_type": "markdown",
   "metadata": {},
   "source": [
    "First, let's import some libraries, and let's create an artificial data set that has nonlinear patterns."
   ]
  },
  {
   "cell_type": "code",
   "execution_count": 2,
   "metadata": {},
   "outputs": [
    {
     "data": {
      "text/plain": [
       "{'divide': 'warn', 'over': 'warn', 'under': 'ignore', 'invalid': 'warn'}"
      ]
     },
     "execution_count": 2,
     "metadata": {},
     "output_type": "execute_result"
    }
   ],
   "source": [
    "\n",
    "# from sklearn.datasets import make_blobs\n",
    "from sklearn.datasets import make_moons, make_circles\n",
    "from matplotlib import pyplot as plt\n",
    "plt.rcParams[\"figure.figsize\"] = (4,4)\n",
    "import numpy as np\n",
    "np.random.seed(42)\n",
    "from sklearn.linear_model import LogisticRegression\n",
    "from mlxtend.plotting import plot_decision_regions\n",
    "np.seterr(all=\"ignore\")\n"
   ]
  },
  {
   "cell_type": "markdown",
   "metadata": {},
   "source": [
    "How to deal with the nonlinear pattern we see here? it seems a linear separator like a straight line will not do a satisfactory job here. Hence, we introduce the *kernel logistic regression*, which we are going to implement now. "
   ]
  },
  {
   "cell_type": "code",
   "execution_count": null,
   "metadata": {},
   "outputs": [
    {
     "name": "stdout",
     "output_type": "stream",
     "text": [
      "[[-50.84739307  50.71154296]\n",
      " [ 11.46814927  -9.28580296]\n",
      " [-40.5192833  -70.94984582]\n",
      " [ 10.73327397  10.17310931]\n",
      " [ 10.33197143   0.43375035]\n",
      " [ -1.62726102  -0.54736954]\n",
      " [ -7.84739307   5.71154296]\n",
      " [-21.46814927 -19.28580296]\n",
      " [-10.5192833  -50.94984582]\n",
      " [  7.73327397   0.17310931]]\n"
     ]
    }
   ],
   "source": []
  },
  {
   "cell_type": "markdown",
   "metadata": {},
   "source": [
    "## Try on a bigger example"
   ]
  },
  {
   "cell_type": "markdown",
   "metadata": {},
   "source": [
    "## Let's try a different data set"
   ]
  }
 ],
 "metadata": {
  "kernelspec": {
   "display_name": "Python 3.9.16 ('ml-0451')",
   "language": "python",
   "name": "python3"
  },
  "language_info": {
   "codemirror_mode": {
    "name": "ipython",
    "version": 3
   },
   "file_extension": ".py",
   "mimetype": "text/x-python",
   "name": "python",
   "nbconvert_exporter": "python",
   "pygments_lexer": "ipython3",
   "version": "3.11.2"
  },
  "vscode": {
   "interpreter": {
    "hash": "828d98d954e87c2b5b44e0a5cfd805247874b19ac6d7df6603713eaf15bc89d5"
   }
  }
 },
 "nbformat": 4,
 "nbformat_minor": 4
}
